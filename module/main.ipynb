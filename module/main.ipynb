{
 "cells": [
  {
   "cell_type": "code",
   "execution_count": 25,
   "id": "716b35db",
   "metadata": {},
   "outputs": [
    {
     "name": "stdout",
     "output_type": "stream",
     "text": [
      "factorial of 5 is 120\n"
     ]
    }
   ],
   "source": [
    "import calculator as calc\n",
    "import string_utils as str_fun\n",
    "\n",
    "fact_result = calc.factorial(5)\n",
    "print(f\"factorial of 5 is {fact_result}\")"
   ]
  },
  {
   "cell_type": "code",
   "execution_count": 26,
   "id": "efce5b76",
   "metadata": {},
   "outputs": [
    {
     "name": "stdout",
     "output_type": "stream",
     "text": [
      "6\n"
     ]
    }
   ],
   "source": [
    "print(calc.add(2,4))"
   ]
  },
  {
   "cell_type": "code",
   "execution_count": 27,
   "id": "bdf60d7a",
   "metadata": {},
   "outputs": [
    {
     "name": "stdout",
     "output_type": "stream",
     "text": [
      "8\n"
     ]
    }
   ],
   "source": [
    "\n",
    "print(calc.sub(8,0))"
   ]
  },
  {
   "cell_type": "code",
   "execution_count": 28,
   "id": "413392ff",
   "metadata": {},
   "outputs": [
    {
     "name": "stdout",
     "output_type": "stream",
     "text": [
      "olleH\n"
     ]
    }
   ],
   "source": [
    "\n",
    "reversal = str_fun.rev(\"Hello\")\n",
    "print(reversal)"
   ]
  },
  {
   "cell_type": "code",
   "execution_count": 36,
   "id": "d2b326f2",
   "metadata": {},
   "outputs": [
    {
     "name": "stdout",
     "output_type": "stream",
     "text": [
      "True\n"
     ]
    }
   ],
   "source": [
    "palidrom_check = str_fun.palidrome(\"madam\")\n",
    "print(palidrom_check)"
   ]
  },
  {
   "cell_type": "code",
   "execution_count": 39,
   "id": "11272dfe",
   "metadata": {},
   "outputs": [
    {
     "name": "stdout",
     "output_type": "stream",
     "text": [
      "ajitkumar\n"
     ]
    }
   ],
   "source": [
    "concate = str_fun.concatenation(\"ajit\", \"kumar\")\n",
    "print(concate)"
   ]
  },
  {
   "cell_type": "code",
   "execution_count": 40,
   "id": "d182622e",
   "metadata": {},
   "outputs": [
    {
     "name": "stdout",
     "output_type": "stream",
     "text": [
      "4\n"
     ]
    }
   ],
   "source": [
    "length = str_fun.length(\"Ajit\")\n",
    "print(length)"
   ]
  },
  {
   "cell_type": "code",
   "execution_count": null,
   "id": "32b151d6",
   "metadata": {},
   "outputs": [],
   "source": []
  }
 ],
 "metadata": {
  "kernelspec": {
   "display_name": "Python 3",
   "language": "python",
   "name": "python3"
  },
  "language_info": {
   "codemirror_mode": {
    "name": "ipython",
    "version": 3
   },
   "file_extension": ".py",
   "mimetype": "text/x-python",
   "name": "python",
   "nbconvert_exporter": "python",
   "pygments_lexer": "ipython3",
   "version": "3.13.3"
  }
 },
 "nbformat": 4,
 "nbformat_minor": 5
}
