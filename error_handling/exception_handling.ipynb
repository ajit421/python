{
 "cells": [
  {
   "cell_type": "code",
   "execution_count": 7,
   "id": "295c1dd2",
   "metadata": {},
   "outputs": [
    {
     "name": "stdout",
     "output_type": "stream",
     "text": [
      "number is not divide by 0\n",
      "Execution completed\n"
     ]
    }
   ],
   "source": [
    "try:\n",
    "    #critical code\n",
    "    num = int (input(\"Enter any number: \"))\n",
    "    result = 8/num\n",
    "\n",
    "except ZeroDivisionError:\n",
    "    # handal error \n",
    "    print(\"number is not divide by 0\")\n",
    "\n",
    "else:\n",
    "    # will be executed only if try block will run properly \n",
    "    print(f\"result = {result}\")\n",
    "\n",
    "finally:\n",
    "    # optional, always run \n",
    "    print(\"Execution completed\")"
   ]
  },
  {
   "cell_type": "code",
   "execution_count": null,
   "id": "eeebddf5",
   "metadata": {},
   "outputs": [
    {
     "name": "stdout",
     "output_type": "stream",
     "text": [
      "Index out of range\n"
     ]
    }
   ],
   "source": [
    "try:\n",
    "    my_list = [1,2,3,4,5,6,7,8,9,10]\n",
    "\n",
    "    my_list_in = int(input(\"Enter a index number: \"))\n",
    "\n",
    "except ValueError:\n",
    "    print(\"Enter a valid index number\")\n",
    "else:\n",
    "    try:\n",
    "        print(my_list[my_list_in])\n",
    "    except IndexError:\n",
    "        print(\"Index out of range\")\n"
   ]
  },
  {
   "cell_type": "code",
   "execution_count": 13,
   "id": "952c5890",
   "metadata": {},
   "outputs": [
    {
     "name": "stdout",
     "output_type": "stream",
     "text": [
      "Enter a valide key: \n"
     ]
    }
   ],
   "source": [
    "my_dict = {\"Name\": \"Ajit\", \"age\":20}\n",
    "\n",
    "try:\n",
    "    print(my_dict[\"Email\"])\n",
    "except KeyError:\n",
    "    print(\"Enter a valide key: \")\n",
    "    "
   ]
  },
  {
   "cell_type": "code",
   "execution_count": null,
   "id": "23e02afb",
   "metadata": {},
   "outputs": [],
   "source": []
  }
 ],
 "metadata": {
  "kernelspec": {
   "display_name": "Python 3",
   "language": "python",
   "name": "python3"
  },
  "language_info": {
   "codemirror_mode": {
    "name": "ipython",
    "version": 3
   },
   "file_extension": ".py",
   "mimetype": "text/x-python",
   "name": "python",
   "nbconvert_exporter": "python",
   "pygments_lexer": "ipython3",
   "version": "3.13.3"
  }
 },
 "nbformat": 4,
 "nbformat_minor": 5
}
