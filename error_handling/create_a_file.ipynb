{
 "cells": [
  {
   "cell_type": "code",
   "execution_count": 9,
   "id": "731f477c",
   "metadata": {},
   "outputs": [],
   "source": [
    "\n",
    "try:\n",
    "    file = open(\"c:\\\\Users\\\\ajitk\\\\Desktop\\\\wifi1.txt\", 'w')\n",
    "    file.write(\"Hey, How are you? i am doing good and have enrolled into full stack data science cource.\\n\")\n",
    "    file.write(\"What are you doing now a day?\\n\")\n",
    "\n",
    "except FileExistsError:\n",
    "    print(\"Error: the file 'wifi.txt' already exists\")\n",
    "except Exception:\n",
    "    print(\"An unexpected error occured\")"
   ]
  },
  {
   "cell_type": "code",
   "execution_count": 1,
   "id": "af283222",
   "metadata": {},
   "outputs": [],
   "source": [
    "\n",
    "try:\n",
    "    file = open(\"c:\\\\Users\\\\ajitk\\\\Desktop\\\\wifi1.csv\", 'w')\n",
    "    file.write(\"Hey, How are you? i am doing good and have enrolled into full stack data science cource.\\n\")\n",
    "    file.write(\"What are you doing now a day?\\n\")\n",
    "\n",
    "except FileExistsError:\n",
    "    print(\"Error: the file 'wifi.txt' already exists\")\n",
    "except Exception:\n",
    "    print(\"An unexpected error occured\")"
   ]
  },
  {
   "cell_type": "code",
   "execution_count": null,
   "id": "3ab28032",
   "metadata": {},
   "outputs": [],
   "source": []
  }
 ],
 "metadata": {
  "kernelspec": {
   "display_name": "Python 3",
   "language": "python",
   "name": "python3"
  },
  "language_info": {
   "codemirror_mode": {
    "name": "ipython",
    "version": 3
   },
   "file_extension": ".py",
   "mimetype": "text/x-python",
   "name": "python",
   "nbconvert_exporter": "python",
   "pygments_lexer": "ipython3",
   "version": "3.13.3"
  }
 },
 "nbformat": 4,
 "nbformat_minor": 5
}
