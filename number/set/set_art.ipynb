{
 "cells": [
  {
   "cell_type": "markdown",
   "id": "2bdac279",
   "metadata": {},
   "source": [
    "# Python Set"
   ]
  },
  {
   "cell_type": "code",
   "execution_count": 1,
   "id": "feb0d2ed",
   "metadata": {},
   "outputs": [
    {
     "name": "stdout",
     "output_type": "stream",
     "text": [
      "{1, 2, 3, 4}\n"
     ]
    }
   ],
   "source": [
    "my_set = {1, 2, 3, 4, 4, 2}\n",
    "print(my_set)  # Output: {1, 2, 3, 4}"
   ]
  },
  {
   "cell_type": "markdown",
   "id": "eb08081d",
   "metadata": {},
   "source": [
    "Creating Sets:"
   ]
  },
  {
   "cell_type": "code",
   "execution_count": 3,
   "id": "12fbaaf2",
   "metadata": {},
   "outputs": [],
   "source": [
    "# Using curly braces\n",
    "chai = {'green', 'black', 'herbal', 'chai', 'masala', 'ginger', 'lemon'}\n",
    "\n",
    "# Using set() constructor (useful for empty sets)\n",
    "empty_set = set()  # NOT {} —> that creates an empty dictionary"
   ]
  },
  {
   "cell_type": "markdown",
   "id": "8766d8c5",
   "metadata": {},
   "source": [
    "Why Use Sets"
   ]
  },
  {
   "cell_type": "code",
   "execution_count": 4,
   "id": "729e75b2",
   "metadata": {},
   "outputs": [
    {
     "name": "stdout",
     "output_type": "stream",
     "text": [
      "Length of Set One: 5\n",
      "Length of Set Two: 6\n",
      "Union: {1, 2, 3, 4, 5, 6, 7, 8, 9}\n",
      "Intersection: {4, 5}\n",
      "Difference (SetOne - SetTwo): {1, 2, 3}\n",
      "Difference (SetTwo - SetOne): {8, 9, 6, 7}\n",
      "Symmetric Difference: {1, 2, 3, 6, 7, 8, 9}\n",
      "Is 1 in Set One: True\n",
      "Is 1 in Set Two: False\n"
     ]
    }
   ],
   "source": [
    "setOne = {1, 2, 3, 4, 5}\n",
    "setTwo = {4, 5, 6, 7, 8, 9}\n",
    "\n",
    "# Length of a set\n",
    "print(\"Length of Set One:\", len(setOne)) # Output: 5\n",
    "print(\"Length of Set Two:\", len(setTwo)) # Output: 6\n",
    "\n",
    "# Union of two sets\n",
    "print(\"Union:\", setOne | setTwo) # Output: {1, 2, 3, 4, 5, 6, 7, 8, 9}\n",
    "\n",
    "# Intersection of two sets\n",
    "print(\"Intersection:\", setOne & setTwo) # Output: {4, 5}\n",
    "\n",
    "# Difference between two sets\n",
    "print(\"Difference (SetOne - SetTwo):\", setOne - setTwo) # Output: {1, 2, 3}\n",
    "print(\"Difference (SetTwo - SetOne):\", setTwo - setOne) # Output: {8, 9, 6, 7}\n",
    "\n",
    "# Symmetric difference between two sets\n",
    "print(\"Symmetric Difference:\", setOne ^ setTwo) # Output: {1, 2, 3, 6, 7, 8, 9}\n",
    "\n",
    "# Check if an element is in a set\n",
    "print(\"Is 1 in Set One:\", 1 in setOne) # Output: True\n",
    "print(\"Is 1 in Set Two:\", 1 in setTwo) # Output: False"
   ]
  },
  {
   "cell_type": "markdown",
   "id": "e3835591",
   "metadata": {},
   "source": [
    "Example: List vs Set Lookup Time"
   ]
  },
  {
   "cell_type": "code",
   "execution_count": 5,
   "id": "1ca9c9cc",
   "metadata": {},
   "outputs": [
    {
     "name": "stdout",
     "output_type": "stream",
     "text": [
      "True\n",
      "True\n"
     ]
    }
   ],
   "source": [
    "# List (O(n) lookup time)\n",
    "nums_list = list(range(1000000))\n",
    "print(999999 in nums_list)  # Slower\n",
    "\n",
    "# Set (O(1) average lookup time)\n",
    "nums_set = set(range(1000000))\n",
    "print(999999 in nums_set)  # Much faster"
   ]
  },
  {
   "cell_type": "markdown",
   "id": "8db0cab8",
   "metadata": {},
   "source": [
    "Important Notes About Hashing in Sets"
   ]
  },
  {
   "cell_type": "code",
   "execution_count": 6,
   "id": "e3d44fde",
   "metadata": {},
   "outputs": [
    {
     "ename": "TypeError",
     "evalue": "unhashable type: 'list'",
     "output_type": "error",
     "traceback": [
      "\u001b[1;31m---------------------------------------------------------------------------\u001b[0m",
      "\u001b[1;31mTypeError\u001b[0m                                 Traceback (most recent call last)",
      "Cell \u001b[1;32mIn[6], line 2\u001b[0m\n\u001b[0;32m      1\u001b[0m my_set \u001b[38;5;241m=\u001b[39m {\u001b[38;5;241m1\u001b[39m, \u001b[38;5;124m\"\u001b[39m\u001b[38;5;124mhello\u001b[39m\u001b[38;5;124m\"\u001b[39m, (\u001b[38;5;241m2\u001b[39m, \u001b[38;5;241m3\u001b[39m)}  \u001b[38;5;66;03m# \u001b[39;00m\n\u001b[1;32m----> 2\u001b[0m my_set \u001b[38;5;241m=\u001b[39m {[\u001b[38;5;241m1\u001b[39m, \u001b[38;5;241m2\u001b[39m]}              \u001b[38;5;66;03m# TypeError: unhashable type: 'list'\u001b[39;00m\n",
      "\u001b[1;31mTypeError\u001b[0m: unhashable type: 'list'"
     ]
    }
   ],
   "source": [
    "my_set = {1, \"hello\", (2, 3)}  # \n",
    "my_set = {[1, 2]}              # TypeError: unhashable type: 'list'"
   ]
  },
  {
   "cell_type": "markdown",
   "id": "b9f74d75",
   "metadata": {},
   "source": [
    "# Common Use Cases for Python Sets"
   ]
  },
  {
   "cell_type": "markdown",
   "id": "ff62a61e",
   "metadata": {},
   "source": [
    "1. Removing Duplicates from a List"
   ]
  },
  {
   "cell_type": "code",
   "execution_count": 2,
   "id": "a47d54b0",
   "metadata": {},
   "outputs": [
    {
     "name": "stdout",
     "output_type": "stream",
     "text": [
      "{'ginger', 'green', 'black', 'lemon', 'masala', 'chai'}\n"
     ]
    }
   ],
   "source": [
    "tea_varities = ['green', 'black', 'chai', 'green', 'ginger', 'black', 'masala', 'ginger', 'lemon']\n",
    "unique_names = set(tea_varities)\n",
    "print(unique_names)  \n"
   ]
  },
  {
   "cell_type": "markdown",
   "id": "158f28fc",
   "metadata": {},
   "source": [
    "2. Fast Membership Testing\n",
    "\n"
   ]
  },
  {
   "cell_type": "code",
   "execution_count": 3,
   "id": "d4e72afc",
   "metadata": {},
   "outputs": [
    {
     "name": "stdout",
     "output_type": "stream",
     "text": [
      "True\n",
      "False\n"
     ]
    }
   ],
   "source": [
    "check_varities = ['green', 'black', 'chai', 'green', 'ginger', 'black', 'masala', 'ginger', 'lemon']\n",
    "print(\"chai\" in check_varities)   # True\n",
    "print(\"coffee\" in check_varities)  # False\n"
   ]
  },
  {
   "cell_type": "markdown",
   "id": "9ab6a234",
   "metadata": {},
   "source": [
    "3. Set Operations: Union, Intersection, Difference\n",
    "\n"
   ]
  },
  {
   "cell_type": "code",
   "execution_count": 4,
   "id": "7c2f38eb",
   "metadata": {},
   "outputs": [
    {
     "name": "stdout",
     "output_type": "stream",
     "text": [
      "{1, 2, 3, 4, 5}\n",
      "{3}\n",
      "{1, 2}\n",
      "{1, 2, 4, 5}\n"
     ]
    }
   ],
   "source": [
    "a = {1, 2, 3}\n",
    "b = {3, 4, 5}\n",
    "\n",
    "print(a | b)   # Union: {1, 2, 3, 4, 5}\n",
    "print(a & b)   # Intersection: {3}\n",
    "print(a - b)   # Difference: {1, 2}\n",
    "print(a ^ b)   # Symmetric Difference: {1, 2, 4, 5}\n"
   ]
  },
  {
   "cell_type": "markdown",
   "id": "a15b8c38",
   "metadata": {},
   "source": [
    "\n",
    "4. Filtering Data Efficiently\n",
    "\n"
   ]
  },
  {
   "cell_type": "code",
   "execution_count": 5,
   "id": "41f6f133",
   "metadata": {},
   "outputs": [
    {
     "name": "stdout",
     "output_type": "stream",
     "text": [
      "['products', 'blog']\n"
     ]
    }
   ],
   "source": [
    "visited_pages = {\"home\", \"about\", \"contact\"}\n",
    "all_pages = [\"home\", \"products\", \"about\", \"blog\"]\n",
    "\n",
    "# Find new (unvisited) pages\n",
    "new_pages = [page for page in all_pages if page not in visited_pages]\n",
    "print(new_pages)  # Output: ['products', 'blog']"
   ]
  },
  {
   "cell_type": "markdown",
   "id": "b5aaeb5a",
   "metadata": {},
   "source": [
    "5. Finding Duplicates"
   ]
  },
  {
   "cell_type": "code",
   "execution_count": 7,
   "id": "684ba978",
   "metadata": {},
   "outputs": [
    {
     "name": "stdout",
     "output_type": "stream",
     "text": [
      "{2, 3}\n"
     ]
    }
   ],
   "source": [
    "items = [1, 2, 3, 2, 4, 3, 5]\n",
    "seen = set()\n",
    "duplicates = set()\n",
    "\n",
    "for item in items:\n",
    "    if item in seen:\n",
    "        duplicates.add(item)\n",
    "    else:\n",
    "        seen.add(item)\n",
    "\n",
    "print(duplicates)  # Output: {2, 3}"
   ]
  },
  {
   "cell_type": "markdown",
   "id": "5fa0070f",
   "metadata": {},
   "source": [
    "6. Set Comprehensions"
   ]
  },
  {
   "cell_type": "code",
   "execution_count": 8,
   "id": "a4f6b3be",
   "metadata": {},
   "outputs": [
    {
     "name": "stdout",
     "output_type": "stream",
     "text": [
      "{0, 1, 4, 9, 16}\n"
     ]
    }
   ],
   "source": [
    "squares = {x*x for x in range(5)}\n",
    "print(squares)  # Output: {0, 1, 4, 9, 16}"
   ]
  },
  {
   "cell_type": "markdown",
   "id": "b162f5a5",
   "metadata": {},
   "source": [
    "# How Are Sets Used in the Industry?"
   ]
  },
  {
   "cell_type": "markdown",
   "id": "b7915e59",
   "metadata": {},
   "source": [
    "1. Web Development & APIs"
   ]
  },
  {
   "cell_type": "code",
   "execution_count": 10,
   "id": "d9c446d3",
   "metadata": {},
   "outputs": [
    {
     "ename": "NameError",
     "evalue": "name 'user_role' is not defined",
     "output_type": "error",
     "traceback": [
      "\u001b[1;31m---------------------------------------------------------------------------\u001b[0m",
      "\u001b[1;31mNameError\u001b[0m                                 Traceback (most recent call last)",
      "Cell \u001b[1;32mIn[10], line 2\u001b[0m\n\u001b[0;32m      1\u001b[0m allowed_roles \u001b[38;5;241m=\u001b[39m {\u001b[38;5;124m\"\u001b[39m\u001b[38;5;124madmin\u001b[39m\u001b[38;5;124m\"\u001b[39m, \u001b[38;5;124m\"\u001b[39m\u001b[38;5;124meditor\u001b[39m\u001b[38;5;124m\"\u001b[39m, \u001b[38;5;124m\"\u001b[39m\u001b[38;5;124mmoderator\u001b[39m\u001b[38;5;124m\"\u001b[39m}\n\u001b[1;32m----> 2\u001b[0m \u001b[38;5;28;01mif\u001b[39;00m \u001b[43muser_role\u001b[49m \u001b[38;5;129;01min\u001b[39;00m allowed_roles:\n\u001b[0;32m      3\u001b[0m     grant_access()\n",
      "\u001b[1;31mNameError\u001b[0m: name 'user_role' is not defined"
     ]
    }
   ],
   "source": [
    "allowed_roles = {\"admin\", \"editor\", \"moderator\"}\n",
    "if user_role in allowed_roles:\n",
    "    grant_access()"
   ]
  },
  {
   "cell_type": "markdown",
   "id": "26e9bdb5",
   "metadata": {},
   "source": [
    "2. Cybersecurity"
   ]
  },
  {
   "cell_type": "code",
   "execution_count": 11,
   "id": "23f89607",
   "metadata": {},
   "outputs": [
    {
     "ename": "NameError",
     "evalue": "name 'request_ip' is not defined",
     "output_type": "error",
     "traceback": [
      "\u001b[1;31m---------------------------------------------------------------------------\u001b[0m",
      "\u001b[1;31mNameError\u001b[0m                                 Traceback (most recent call last)",
      "Cell \u001b[1;32mIn[11], line 2\u001b[0m\n\u001b[0;32m      1\u001b[0m blocked_ips \u001b[38;5;241m=\u001b[39m {\u001b[38;5;124m\"\u001b[39m\u001b[38;5;124m192.168.1.100\u001b[39m\u001b[38;5;124m\"\u001b[39m, \u001b[38;5;124m\"\u001b[39m\u001b[38;5;124m10.0.0.5\u001b[39m\u001b[38;5;124m\"\u001b[39m}\n\u001b[1;32m----> 2\u001b[0m \u001b[38;5;28;01mif\u001b[39;00m \u001b[43mrequest_ip\u001b[49m \u001b[38;5;129;01min\u001b[39;00m blocked_ips:\n\u001b[0;32m      3\u001b[0m     block_request()\n",
      "\u001b[1;31mNameError\u001b[0m: name 'request_ip' is not defined"
     ]
    }
   ],
   "source": [
    "blocked_ips = {\"192.168.1.100\", \"10.0.0.5\"}\n",
    "if request_ip in blocked_ips:\n",
    "    block_request()"
   ]
  },
  {
   "cell_type": "markdown",
   "id": "ee85e92e",
   "metadata": {},
   "source": [
    "3. Data Science & Analytics"
   ]
  },
  {
   "cell_type": "code",
   "execution_count": 12,
   "id": "e6a9da78",
   "metadata": {},
   "outputs": [],
   "source": [
    "sales_2023 = {\"Alice\", \"Bob\", \"Charlie\"}\n",
    "sales_2024 = {\"Bob\", \"Diana\"}\n",
    "\n",
    "repeat_customers = sales_2023 & sales_2024  # Intersection"
   ]
  },
  {
   "cell_type": "markdown",
   "id": "9ec66579",
   "metadata": {},
   "source": [
    "4. E-commerce & Recommendation Engines"
   ]
  },
  {
   "cell_type": "code",
   "execution_count": 13,
   "id": "977df586",
   "metadata": {},
   "outputs": [],
   "source": [
    "user1_likes = {\"shoes\", \"jeans\", \"jackets\"}\n",
    "user2_likes = {\"jeans\", \"hats\", \"sneakers\"}\n",
    "\n",
    "similar_items = user1_likes & user2_likes"
   ]
  },
  {
   "cell_type": "markdown",
   "id": "c62b7d43",
   "metadata": {},
   "source": [
    "5. Email and Communication Systems"
   ]
  },
  {
   "cell_type": "code",
   "execution_count": 14,
   "id": "21dc5da7",
   "metadata": {},
   "outputs": [
    {
     "ename": "NameError",
     "evalue": "name 'email_words' is not defined",
     "output_type": "error",
     "traceback": [
      "\u001b[1;31m---------------------------------------------------------------------------\u001b[0m",
      "\u001b[1;31mNameError\u001b[0m                                 Traceback (most recent call last)",
      "Cell \u001b[1;32mIn[14], line 2\u001b[0m\n\u001b[0;32m      1\u001b[0m spam_keywords \u001b[38;5;241m=\u001b[39m {\u001b[38;5;124m\"\u001b[39m\u001b[38;5;124mwin\u001b[39m\u001b[38;5;124m\"\u001b[39m, \u001b[38;5;124m\"\u001b[39m\u001b[38;5;124mfree\u001b[39m\u001b[38;5;124m\"\u001b[39m, \u001b[38;5;124m\"\u001b[39m\u001b[38;5;124murgent\u001b[39m\u001b[38;5;124m\"\u001b[39m, \u001b[38;5;124m\"\u001b[39m\u001b[38;5;124mmoney\u001b[39m\u001b[38;5;124m\"\u001b[39m}\n\u001b[1;32m----> 2\u001b[0m \u001b[38;5;28;01mif\u001b[39;00m \u001b[38;5;28many\u001b[39m(word \u001b[38;5;129;01min\u001b[39;00m spam_keywords \u001b[38;5;28;01mfor\u001b[39;00m word \u001b[38;5;129;01min\u001b[39;00m \u001b[43memail_words\u001b[49m):\n\u001b[0;32m      3\u001b[0m     flag_as_spam()\n",
      "\u001b[1;31mNameError\u001b[0m: name 'email_words' is not defined"
     ]
    }
   ],
   "source": [
    "spam_keywords = {\"win\", \"free\", \"urgent\", \"money\"}\n",
    "if any(word in spam_keywords for word in email_words):\n",
    "    flag_as_spam()"
   ]
  },
  {
   "cell_type": "markdown",
   "id": "a2ba2f52",
   "metadata": {},
   "source": [
    "6. Supply Chain and Inventory Systems"
   ]
  },
  {
   "cell_type": "code",
   "execution_count": 15,
   "id": "792c79fa",
   "metadata": {},
   "outputs": [
    {
     "ename": "NameError",
     "evalue": "name 'item_id' is not defined",
     "output_type": "error",
     "traceback": [
      "\u001b[1;31m---------------------------------------------------------------------------\u001b[0m",
      "\u001b[1;31mNameError\u001b[0m                                 Traceback (most recent call last)",
      "Cell \u001b[1;32mIn[15], line 2\u001b[0m\n\u001b[0;32m      1\u001b[0m scanned_items \u001b[38;5;241m=\u001b[39m \u001b[38;5;28mset\u001b[39m()\n\u001b[1;32m----> 2\u001b[0m \u001b[38;5;28;01mif\u001b[39;00m \u001b[43mitem_id\u001b[49m \u001b[38;5;129;01mnot\u001b[39;00m \u001b[38;5;129;01min\u001b[39;00m scanned_items:\n\u001b[0;32m      3\u001b[0m     scanned_items\u001b[38;5;241m.\u001b[39madd(item_id)\n",
      "\u001b[1;31mNameError\u001b[0m: name 'item_id' is not defined"
     ]
    }
   ],
   "source": [
    "scanned_items = set()\n",
    "if item_id not in scanned_items:\n",
    "    scanned_items.add(item_id)"
   ]
  },
  {
   "cell_type": "markdown",
   "id": "fdefb47c",
   "metadata": {},
   "source": [
    "# When Not to Use Sets in Python"
   ]
  },
  {
   "cell_type": "markdown",
   "id": "b0ae6026",
   "metadata": {},
   "source": [
    "1. When You Need to Preserve Order"
   ]
  },
  {
   "cell_type": "code",
   "execution_count": 16,
   "id": "25d983c3",
   "metadata": {},
   "outputs": [
    {
     "name": "stdout",
     "output_type": "stream",
     "text": [
      "a\n"
     ]
    }
   ],
   "source": [
    "my_list = [\"a\", \"b\", \"c\"]\n",
    "print(my_list[0])  # 'a'\n",
    "\n",
    "my_set = {\"a\", \"b\", \"c\"}\n",
    "# print(my_set[0])  # Error: sets are unordered and unindexed"
   ]
  },
  {
   "cell_type": "markdown",
   "id": "ff8b82cf",
   "metadata": {},
   "source": [
    "2. When You Need Duplicates"
   ]
  },
  {
   "cell_type": "code",
   "execution_count": 17,
   "id": "d4ca0a4d",
   "metadata": {},
   "outputs": [
    {
     "name": "stdout",
     "output_type": "stream",
     "text": [
      "{'banana', 'apple'}\n"
     ]
    }
   ],
   "source": [
    "items = [\"apple\", \"apple\", \"banana\"]\n",
    "my_set = set(items)\n",
    "print(my_set)  # Output: {'apple', 'banana'} — one \"apple\" is removed!"
   ]
  },
  {
   "cell_type": "markdown",
   "id": "04bea701",
   "metadata": {},
   "source": [
    "4. When You Need to Store Unhashable (Mutable) Types"
   ]
  },
  {
   "cell_type": "code",
   "execution_count": 18,
   "id": "d7b3b19e",
   "metadata": {},
   "outputs": [],
   "source": [
    "my_set = set()\n",
    "# my_set.add([1, 2, 3])  # TypeError: unhashable type: 'list'"
   ]
  },
  {
   "cell_type": "code",
   "execution_count": null,
   "id": "995544e2",
   "metadata": {},
   "outputs": [],
   "source": []
  }
 ],
 "metadata": {
  "kernelspec": {
   "display_name": "Python 3",
   "language": "python",
   "name": "python3"
  },
  "language_info": {
   "codemirror_mode": {
    "name": "ipython",
    "version": 3
   },
   "file_extension": ".py",
   "mimetype": "text/x-python",
   "name": "python",
   "nbconvert_exporter": "python",
   "pygments_lexer": "ipython3",
   "version": "3.10.11"
  }
 },
 "nbformat": 4,
 "nbformat_minor": 5
}
