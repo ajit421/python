{
  "nbformat": 4,
  "nbformat_minor": 0,
  "metadata": {
    "colab": {
      "provenance": [],
      "authorship_tag": "ABX9TyP6nbYB83sVttHlDoVEPoDQ"
    },
    "kernelspec": {
      "name": "python3",
      "display_name": "Python 3"
    },
    "language_info": {
      "name": "python"
    }
  },
  "cells": [
    {
      "cell_type": "code",
      "execution_count": null,
      "metadata": {
        "id": "prAX9lAByA4n",
        "colab": {
          "base_uri": "https://localhost:8080/"
        },
        "outputId": "080d9e10-1f6d-4c52-962a-af947f4ca485"
      },
      "outputs": [
        {
          "output_type": "stream",
          "name": "stdout",
          "text": [
            "'apple'\n",
            "'banana'\n",
            "01100001 01110000 01110000 01101100 01100101\n",
            "01100010 01100001 01101110 01100001 01101110 01100001\n",
            "False\n",
            "True\n",
            "False\n"
          ]
        }
      ],
      "source": [
        "str1=\"apple\"\n",
        "str2=\"banana\"\n",
        "\n",
        "\n",
        "print(ascii(str1))\n",
        "print(ascii(str2))\n",
        "print(' '.join(format(b, '08b') for b in str1.encode()))\n",
        "print(' '.join(format(b, '08b') for b in str2.encode()))\n",
        "\n",
        "\n",
        "\n",
        "print(str1 == str2)\n",
        "print(str1<=str2)\n",
        "print(str1>str2)\n"
      ]
    },
    {
      "cell_type": "code",
      "source": [
        "ord('a')\n"
      ],
      "metadata": {
        "colab": {
          "base_uri": "https://localhost:8080/"
        },
        "id": "eGurelrDLkvQ",
        "outputId": "4adb8a60-bbeb-4807-c226-e00c8bac8cfe"
      },
      "execution_count": null,
      "outputs": [
        {
          "output_type": "execute_result",
          "data": {
            "text/plain": [
              "97"
            ]
          },
          "metadata": {},
          "execution_count": 91
        }
      ]
    },
    {
      "cell_type": "code",
      "source": [
        "ord('z')"
      ],
      "metadata": {
        "colab": {
          "base_uri": "https://localhost:8080/"
        },
        "id": "3yYhQXG7O_VA",
        "outputId": "7a35d6c2-9f01-4c28-be4d-436922a43187"
      },
      "execution_count": null,
      "outputs": [
        {
          "output_type": "execute_result",
          "data": {
            "text/plain": [
              "122"
            ]
          },
          "metadata": {},
          "execution_count": 92
        }
      ]
    },
    {
      "cell_type": "code",
      "source": [
        "[ord(char)for char in 'apple']\n"
      ],
      "metadata": {
        "colab": {
          "base_uri": "https://localhost:8080/"
        },
        "id": "Vzzr6RxsPGw5",
        "outputId": "7eff0a74-0483-4eee-c856-d4786b876866"
      },
      "execution_count": null,
      "outputs": [
        {
          "output_type": "execute_result",
          "data": {
            "text/plain": [
              "[97, 112, 112, 108, 101]"
            ]
          },
          "metadata": {},
          "execution_count": 93
        }
      ]
    },
    {
      "cell_type": "code",
      "source": [
        "[ord(char)for char in 'banana']"
      ],
      "metadata": {
        "colab": {
          "base_uri": "https://localhost:8080/"
        },
        "id": "ndkqQHqPPQ1u",
        "outputId": "0e262f97-d3ef-4a93-f6a1-a618cd574674"
      },
      "execution_count": null,
      "outputs": [
        {
          "output_type": "execute_result",
          "data": {
            "text/plain": [
              "[98, 97, 110, 97, 110, 97]"
            ]
          },
          "metadata": {},
          "execution_count": 94
        }
      ]
    },
    {
      "cell_type": "code",
      "source": [
        "name = \"Ajit\"\n",
        "print(name.lower())  # ajit\n",
        "print(name.upper())  # AJIT\n"
      ],
      "metadata": {
        "colab": {
          "base_uri": "https://localhost:8080/"
        },
        "id": "YjuPSShJ-Mpj",
        "outputId": "95896b6e-2fa4-4d7b-bd35-6dc9287da254"
      },
      "execution_count": 12,
      "outputs": [
        {
          "output_type": "stream",
          "name": "stdout",
          "text": [
            "ajit\n",
            "AJIT\n"
          ]
        }
      ]
    },
    {
      "cell_type": "markdown",
      "source": [
        "replace()\n"
      ],
      "metadata": {
        "id": "zTiCLSl9QSA_"
      }
    },
    {
      "cell_type": "code",
      "source": [
        "original_string=\"hello world\"\n",
        "new=original_string.replace(\"world\", \"ajit\")\n",
        "print(new)\n"
      ],
      "metadata": {
        "colab": {
          "base_uri": "https://localhost:8080/"
        },
        "id": "yplwYlbKP0Q2",
        "outputId": "56352f74-60a2-4808-d684-a636452cf540"
      },
      "execution_count": null,
      "outputs": [
        {
          "output_type": "stream",
          "name": "stdout",
          "text": [
            "hello ajit\n"
          ]
        }
      ]
    },
    {
      "cell_type": "markdown",
      "source": [
        "split()"
      ],
      "metadata": {
        "id": "Z7yPLtkXQx7B"
      }
    },
    {
      "cell_type": "code",
      "source": [
        "string=\"Hello world\"\n",
        "string.split()"
      ],
      "metadata": {
        "colab": {
          "base_uri": "https://localhost:8080/"
        },
        "id": "T73vVnQTRYRY",
        "outputId": "f8a9dd9e-bf29-48ee-c00a-6a1adc07a757"
      },
      "execution_count": 7,
      "outputs": [
        {
          "output_type": "execute_result",
          "data": {
            "text/plain": [
              "['Hello', 'world']"
            ]
          },
          "metadata": {},
          "execution_count": 7
        }
      ]
    },
    {
      "cell_type": "code",
      "source": [
        "string.split(\"-\")"
      ],
      "metadata": {
        "colab": {
          "base_uri": "https://localhost:8080/"
        },
        "id": "8MT6p_5zRb1T",
        "outputId": "ed585373-bc1e-410f-9603-818e5c9aa17b"
      },
      "execution_count": null,
      "outputs": [
        {
          "output_type": "execute_result",
          "data": {
            "text/plain": [
              "['Hello', 'world']"
            ]
          },
          "metadata": {},
          "execution_count": 97
        }
      ]
    },
    {
      "cell_type": "code",
      "source": [
        "age = 20\n",
        "text = f\"My name is Ajit, I am  {age} years old\"\n",
        "print(text)"
      ],
      "metadata": {
        "colab": {
          "base_uri": "https://localhost:8080/"
        },
        "id": "nyLC52YjRhIM",
        "outputId": "e7eab512-1d3c-43df-cc89-ea9ee34f29b2"
      },
      "execution_count": null,
      "outputs": [
        {
          "output_type": "stream",
          "name": "stdout",
          "text": [
            "My name is Ajit, I am  20 years old\n"
          ]
        }
      ]
    },
    {
      "cell_type": "code",
      "source": [
        "name= \"             sohan kumar             das                \"\n",
        "# print(name)\n",
        "print(name.strip())\n",
        "print(name.lstrip())\n",
        "print(name.rstrip())\n"
      ],
      "metadata": {
        "colab": {
          "base_uri": "https://localhost:8080/"
        },
        "id": "dxo1OEFnS4eu",
        "outputId": "c6e010f9-26c4-482c-8fb0-501aa9f98ca0"
      },
      "execution_count": null,
      "outputs": [
        {
          "output_type": "stream",
          "name": "stdout",
          "text": [
            "sohan kumar             das\n",
            "sohan kumar             das                \n",
            "             sohan kumar             das\n"
          ]
        }
      ]
    },
    {
      "cell_type": "code",
      "source": [],
      "metadata": {
        "id": "OJ7zl-7M6_mY"
      },
      "execution_count": null,
      "outputs": []
    },
    {
      "cell_type": "code",
      "source": [
        "string = \"Hello, World!\"\n",
        "index = string.index(\"W\")\n",
        "print(index)\n",
        "index= string.index(\"d\")\n",
        "print(index)"
      ],
      "metadata": {
        "colab": {
          "base_uri": "https://localhost:8080/"
        },
        "id": "ZMzeZ7HHUa8a",
        "outputId": "20bf36cd-26b3-4268-94e8-3e36a061e4ec"
      },
      "execution_count": null,
      "outputs": [
        {
          "output_type": "stream",
          "name": "stdout",
          "text": [
            "7\n",
            "11\n"
          ]
        }
      ]
    },
    {
      "cell_type": "code",
      "source": [
        "string = \"Hello, World!\"\n",
        "index = string.find(\"W\")\n",
        "print(index)\n",
        "index= string.find(\"d\")\n",
        "print(index)"
      ],
      "metadata": {
        "colab": {
          "base_uri": "https://localhost:8080/"
        },
        "id": "rhVBRxAvf6nh",
        "outputId": "d90bad5b-32b1-42f4-dd61-3c635a77df82"
      },
      "execution_count": null,
      "outputs": [
        {
          "output_type": "stream",
          "name": "stdout",
          "text": [
            "7\n",
            "11\n"
          ]
        }
      ]
    },
    {
      "cell_type": "code",
      "source": [
        "sentence = \"this is a sample sentence\"\n",
        "count=sentence.count(\"s\")\n",
        "print(count)"
      ],
      "metadata": {
        "colab": {
          "base_uri": "https://localhost:8080/"
        },
        "id": "b672onXrgZ7o",
        "outputId": "5eae0910-f159-4184-fe85-4a6ac9172fae"
      },
      "execution_count": null,
      "outputs": [
        {
          "output_type": "stream",
          "name": "stdout",
          "text": [
            "4\n"
          ]
        }
      ]
    },
    {
      "cell_type": "code",
      "source": [
        "# Examples of string creation\n",
        "single = 'Hello'\n",
        "double = \"World\"\n",
        "multi = \"\"\"This is\n",
        "a multiline string\"\"\"\n"
      ],
      "metadata": {
        "id": "2q0hhsQ-hPVh"
      },
      "execution_count": 3,
      "outputs": []
    },
    {
      "cell_type": "code",
      "source": [
        "print(single)\n",
        "print(double)\n",
        "print(multi)"
      ],
      "metadata": {
        "colab": {
          "base_uri": "https://localhost:8080/"
        },
        "id": "RVHqceC_qsY2",
        "outputId": "e1f75a06-ef6c-4642-bc8b-25893f8f1dae"
      },
      "execution_count": 5,
      "outputs": [
        {
          "output_type": "stream",
          "name": "stdout",
          "text": [
            "Hello\n",
            "World\n",
            "This is\n",
            "a multiline string\n"
          ]
        }
      ]
    },
    {
      "cell_type": "code",
      "source": [
        "# Using single quotes\n",
        "single_quoted_string = 'This is a string with single quotes'\n",
        "\n",
        "# Using double quotes\n",
        "double_quoted_string = \"This is a string with double quotes\""
      ],
      "metadata": {
        "id": "6YZBkqnUqxGT"
      },
      "execution_count": 6,
      "outputs": []
    },
    {
      "cell_type": "code",
      "source": [
        "text = \"Hello, world!\"\n",
        "length = len(text)\n",
        "print(length)"
      ],
      "metadata": {
        "colab": {
          "base_uri": "https://localhost:8080/"
        },
        "id": "Njmaw_FY1PxI",
        "outputId": "c1dec54e-b97a-4b8f-db66-91926f96e99f"
      },
      "execution_count": 10,
      "outputs": [
        {
          "output_type": "stream",
          "name": "stdout",
          "text": [
            "13\n"
          ]
        }
      ]
    },
    {
      "cell_type": "code",
      "source": [
        "lines = [\"Line 1\", \"Line 2\", \"Line 3\"]\n",
        "print(\"\\n\".join(lines))\n"
      ],
      "metadata": {
        "colab": {
          "base_uri": "https://localhost:8080/"
        },
        "id": "QmkmvhXt6LRx",
        "outputId": "a2ac91ab-3b7c-4198-a93b-77022b7776be"
      },
      "execution_count": 11,
      "outputs": [
        {
          "output_type": "stream",
          "name": "stdout",
          "text": [
            "Line 1\n",
            "Line 2\n",
            "Line 3\n"
          ]
        }
      ]
    },
    {
      "cell_type": "code",
      "source": [],
      "metadata": {
        "id": "QM29m4uU8XBk"
      },
      "execution_count": null,
      "outputs": []
    }
  ]
}