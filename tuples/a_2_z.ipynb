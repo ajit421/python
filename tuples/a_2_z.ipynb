{
 "cells": [
  {
   "cell_type": "markdown",
   "id": "93bb74e9",
   "metadata": {},
   "source": [
    "Code That Doesn’t Crack: Unlocking the Magic of Python Tuples"
   ]
  },
  {
   "cell_type": "code",
   "execution_count": 3,
   "id": "d6824876",
   "metadata": {},
   "outputs": [
    {
     "name": "stdout",
     "output_type": "stream",
     "text": [
      "(1, 2, 3)\n",
      "(4, 5, 6)\n"
     ]
    }
   ],
   "source": [
    "my_tuple = (1, 2, 3)\n",
    "\n",
    "# Without parentheses (tuple packing)\n",
    "another_tuple = 4, 5, 6\n",
    "\n",
    "print(my_tuple) \n",
    "print(another_tuple)"
   ]
  },
  {
   "cell_type": "code",
   "execution_count": 4,
   "id": "1957797e",
   "metadata": {},
   "outputs": [],
   "source": [
    "# A tuple of integers\n",
    "numbers = (1, 2, 3)\n",
    "\n",
    "# A tuple with mixed data types\n",
    "info = (\"Alice\", 25, True)\n",
    "\n",
    "# A tuple without parentheses (optional, but not recommended for readability)\n",
    "colors = \"red\", \"green\", \"blue\"\n",
    "\n",
    "# An empty tuple\n",
    "empty = ()\n",
    "\n",
    "# A single-element tuple (note the comma!)\n",
    "single = (42,)"
   ]
  },
  {
   "cell_type": "code",
   "execution_count": 5,
   "id": "a65058a6",
   "metadata": {},
   "outputs": [],
   "source": [
    "x = (5)    # This is an integer\n",
    "y = (5,)   # This is a tuple with one item"
   ]
  },
  {
   "cell_type": "markdown",
   "id": "1ca4761e",
   "metadata": {},
   "source": [
    "Mutable Example → List"
   ]
  },
  {
   "cell_type": "code",
   "execution_count": 6,
   "id": "c0a50415",
   "metadata": {},
   "outputs": [
    {
     "name": "stdout",
     "output_type": "stream",
     "text": [
      "[1, 2, 3, 4]\n"
     ]
    }
   ],
   "source": [
    "my_list = [1, 2, 3]\n",
    "my_list.append(4)\n",
    "print(my_list)  # Output: [1, 2, 3, 4]"
   ]
  },
  {
   "cell_type": "markdown",
   "id": "ffe8dd8a",
   "metadata": {},
   "source": [
    "Immutable Example → Tuple"
   ]
  },
  {
   "cell_type": "code",
   "execution_count": 7,
   "id": "2f198583",
   "metadata": {},
   "outputs": [
    {
     "ename": "TypeError",
     "evalue": "'tuple' object does not support item assignment",
     "output_type": "error",
     "traceback": [
      "\u001b[31m---------------------------------------------------------------------------\u001b[39m",
      "\u001b[31mTypeError\u001b[39m                                 Traceback (most recent call last)",
      "\u001b[36mCell\u001b[39m\u001b[36m \u001b[39m\u001b[32mIn[7]\u001b[39m\u001b[32m, line 2\u001b[39m\n\u001b[32m      1\u001b[39m my_tuple = (\u001b[32m1\u001b[39m, \u001b[32m2\u001b[39m, \u001b[32m3\u001b[39m)\n\u001b[32m----> \u001b[39m\u001b[32m2\u001b[39m \u001b[43mmy_tuple\u001b[49m\u001b[43m[\u001b[49m\u001b[32;43m0\u001b[39;49m\u001b[43m]\u001b[49m = \u001b[32m10\u001b[39m  \u001b[38;5;66;03m# TypeError: 'tuple' object does not support item assignment\u001b[39;00m\n",
      "\u001b[31mTypeError\u001b[39m: 'tuple' object does not support item assignment"
     ]
    }
   ],
   "source": [
    "my_tuple = (1, 2, 3)\n",
    "my_tuple[0] = 10  # TypeError: 'tuple' object does not support item assignment"
   ]
  },
  {
   "cell_type": "markdown",
   "id": "c1ed3867",
   "metadata": {},
   "source": [
    "Hashability"
   ]
  },
  {
   "cell_type": "code",
   "execution_count": 9,
   "id": "dd373bf1",
   "metadata": {},
   "outputs": [],
   "source": [
    "my_dict = {\n",
    "    (1, 2): \"coordinates\"  # Tuple as key\n",
    "    # [1, 2]: \"coordinates\"  Unhashable type: 'list'\n",
    "}"
   ]
  },
  {
   "cell_type": "markdown",
   "id": "57737793",
   "metadata": {},
   "source": [
    "Gotcha: Mutable Elements Inside Immutable Containers"
   ]
  },
  {
   "cell_type": "code",
   "execution_count": 10,
   "id": "7ff19285",
   "metadata": {},
   "outputs": [
    {
     "name": "stdout",
     "output_type": "stream",
     "text": [
      "([1, 2, 4], 3)\n"
     ]
    }
   ],
   "source": [
    "t = ([1, 2], 3)\n",
    "t[0].append(4)\n",
    "print(t)  # Output: ([1, 2, 4], 3)"
   ]
  },
  {
   "cell_type": "markdown",
   "id": "09d0cd17",
   "metadata": {},
   "source": [
    "Why Immutability Matters in Python"
   ]
  },
  {
   "cell_type": "markdown",
   "id": "f45a861b",
   "metadata": {},
   "source": [
    "1. Predictable Code Behavior"
   ]
  },
  {
   "cell_type": "code",
   "execution_count": 11,
   "id": "a94fb885",
   "metadata": {},
   "outputs": [
    {
     "ename": "TypeError",
     "evalue": "'tuple' object does not support item assignment",
     "output_type": "error",
     "traceback": [
      "\u001b[31m---------------------------------------------------------------------------\u001b[39m",
      "\u001b[31mTypeError\u001b[39m                                 Traceback (most recent call last)",
      "\u001b[36mCell\u001b[39m\u001b[36m \u001b[39m\u001b[32mIn[11]\u001b[39m\u001b[32m, line 5\u001b[39m\n\u001b[32m      2\u001b[39m     data[\u001b[32m0\u001b[39m] = \u001b[32m100\u001b[39m\n\u001b[32m      4\u001b[39m my_tuple = (\u001b[32m1\u001b[39m, \u001b[32m2\u001b[39m, \u001b[32m3\u001b[39m)\n\u001b[32m----> \u001b[39m\u001b[32m5\u001b[39m \u001b[43mupdate\u001b[49m\u001b[43m(\u001b[49m\u001b[43mmy_tuple\u001b[49m\u001b[43m)\u001b[49m  \n\u001b[32m      6\u001b[39m \u001b[38;5;66;03m# This would raise an error because the tuple is immutable\u001b[39;00m\n",
      "\u001b[36mCell\u001b[39m\u001b[36m \u001b[39m\u001b[32mIn[11]\u001b[39m\u001b[32m, line 2\u001b[39m, in \u001b[36mupdate\u001b[39m\u001b[34m(data)\u001b[39m\n\u001b[32m      1\u001b[39m \u001b[38;5;28;01mdef\u001b[39;00m\u001b[38;5;250m \u001b[39m\u001b[34mupdate\u001b[39m(data):\n\u001b[32m----> \u001b[39m\u001b[32m2\u001b[39m     \u001b[43mdata\u001b[49m\u001b[43m[\u001b[49m\u001b[32;43m0\u001b[39;49m\u001b[43m]\u001b[49m = \u001b[32m100\u001b[39m\n",
      "\u001b[31mTypeError\u001b[39m: 'tuple' object does not support item assignment"
     ]
    }
   ],
   "source": [
    "def update(data):\n",
    "    data[0] = 100\n",
    "\n",
    "my_tuple = (1, 2, 3)\n",
    "update(my_tuple)  \n",
    "# This would raise an error because the tuple is immutable"
   ]
  },
  {
   "cell_type": "markdown",
   "id": "b0d76662",
   "metadata": {},
   "source": [
    "2. Data Safety in Concurrent Programming"
   ]
  },
  {
   "cell_type": "code",
   "execution_count": 13,
   "id": "3c8c97fb",
   "metadata": {},
   "outputs": [],
   "source": [
    "# No risk of one thread altering the data another is using\n",
    "shared_config = (\"read-only\", \"settings\", 42)"
   ]
  },
  {
   "cell_type": "markdown",
   "id": "58234467",
   "metadata": {},
   "source": [
    "4. Hashability & Dictionary Keys"
   ]
  },
  {
   "cell_type": "code",
   "execution_count": 21,
   "id": "c333bf01",
   "metadata": {},
   "outputs": [
    {
     "name": "stdout",
     "output_type": "stream",
     "text": [
      "(2024, 'April', 30)\n",
      "{(2024, 'April', 30): 'Event Day'}\n",
      "[2024, 'April', 30]\n"
     ]
    }
   ],
   "source": [
    "valid_key = (2024, \"April\", 30)  # Tuple is hashable\n",
    "my_dict = {valid_key: \"Event Day\"}\n",
    "\n",
    "invalid_key = [2024, \"April\", 30]  #  List is not hashable\n",
    "# my_dict = {invalid_key: \"Event Day\"}  # Raises TypeError\n",
    "\n",
    "print(valid_key)\n",
    "print(my_dict)\n",
    "print(invalid_key)"
   ]
  },
  {
   "cell_type": "markdown",
   "id": "bedbca5f",
   "metadata": {},
   "source": [
    "Use Cases of Tuples in Real-World Python"
   ]
  },
  {
   "cell_type": "markdown",
   "id": "dcf70f26",
   "metadata": {},
   "source": [
    "1. Returning Multiple Values from a Function\n"
   ]
  },
  {
   "cell_type": "code",
   "execution_count": 26,
   "id": "ff981280",
   "metadata": {},
   "outputs": [
    {
     "name": "stdout",
     "output_type": "stream",
     "text": [
      "Alice\n",
      "28\n"
     ]
    }
   ],
   "source": [
    "def get_user():\n",
    "    name = \"Alice\"\n",
    "    age = 28\n",
    "    return (name, age)\n",
    "\n",
    "user_name, user_age = get_user()\n",
    "print(user_name)\n",
    "print(user_age)\n"
   ]
  },
  {
   "cell_type": "markdown",
   "id": "46ef980f",
   "metadata": {},
   "source": [
    "2. Using Tuples as Dictionary Keys"
   ]
  },
  {
   "cell_type": "code",
   "execution_count": 28,
   "id": "8d39b83b",
   "metadata": {},
   "outputs": [
    {
     "name": "stdout",
     "output_type": "stream",
     "text": [
      "{(40.7128, -74.006): 'New York', (34.0522, -118.2437): 'Los Angeles'}\n"
     ]
    }
   ],
   "source": [
    "coordinates = {\n",
    "    (40.7128, -74.0060): \"New York\",\n",
    "    (34.0522, -118.2437): \"Los Angeles\"\n",
    "}\n",
    "print(coordinates)"
   ]
  },
  {
   "cell_type": "markdown",
   "id": "6a520283",
   "metadata": {},
   "source": [
    "3. Unpacking and Swapping Values"
   ]
  },
  {
   "cell_type": "code",
   "execution_count": 31,
   "id": "a3d2dffb",
   "metadata": {},
   "outputs": [
    {
     "name": "stdout",
     "output_type": "stream",
     "text": [
      "a = 10, b = 5\n"
     ]
    }
   ],
   "source": [
    "a, b = 5, 10\n",
    "a, b = b, a  # Swapping values\n",
    "\n",
    "print(f\"a = {a}, b = {b}\")\n"
   ]
  },
  {
   "cell_type": "markdown",
   "id": "6da4f367",
   "metadata": {},
   "source": [
    "4. Storing Fixed-Structure Data"
   ]
  },
  {
   "cell_type": "code",
   "execution_count": 33,
   "id": "9f4d2eb7",
   "metadata": {},
   "outputs": [
    {
     "name": "stdout",
     "output_type": "stream",
     "text": [
      "(255, 255, 0) (10, 20, 30)\n"
     ]
    }
   ],
   "source": [
    "rgb = (255, 255, 0)\n",
    "position = (10, 20, 30)\n",
    "\n",
    "print(rgb,position)"
   ]
  },
  {
   "cell_type": "markdown",
   "id": "275d45af",
   "metadata": {},
   "source": [
    "5. Packing & Unpacking Multiple Values"
   ]
  },
  {
   "cell_type": "code",
   "execution_count": 34,
   "id": "fdc6a68b",
   "metadata": {},
   "outputs": [],
   "source": [
    "# Packing\n",
    "data = \"Python\", 3.10, \"stable\"\n",
    "\n",
    "# Unpacking\n",
    "language, version, status = data"
   ]
  },
  {
   "cell_type": "markdown",
   "id": "2865d40a",
   "metadata": {},
   "source": [
    "6. Looping Through Enumerated Data"
   ]
  },
  {
   "cell_type": "code",
   "execution_count": 35,
   "id": "0eb5c9e7",
   "metadata": {},
   "outputs": [
    {
     "name": "stdout",
     "output_type": "stream",
     "text": [
      "0: apple\n",
      "1: banana\n",
      "2: cherry\n"
     ]
    }
   ],
   "source": [
    "fruits = [\"apple\", \"banana\", \"cherry\"]\n",
    "for index, fruit in enumerate(fruits):\n",
    "    print(f\"{index}: {fruit}\")"
   ]
  },
  {
   "cell_type": "markdown",
   "id": "25ed9a15",
   "metadata": {},
   "source": [
    "7. Using Tuples in Sets"
   ]
  },
  {
   "cell_type": "code",
   "execution_count": 36,
   "id": "72536779",
   "metadata": {},
   "outputs": [
    {
     "name": "stdout",
     "output_type": "stream",
     "text": [
      "2\n"
     ]
    }
   ],
   "source": [
    "unique_pairs = {(1, 2), (3, 4), (1, 2)}\n",
    "print(len(unique_pairs))  # Output: 2"
   ]
  },
  {
   "cell_type": "markdown",
   "id": "0c2ef913",
   "metadata": {},
   "source": [
    "8. Storing Read-Only Configuration or Metadata"
   ]
  },
  {
   "cell_type": "code",
   "execution_count": 38,
   "id": "1fa5b041",
   "metadata": {},
   "outputs": [
    {
     "name": "stdout",
     "output_type": "stream",
     "text": [
      "('localhost', 5432, 'readonly_user')\n"
     ]
    }
   ],
   "source": [
    "DATABASE_SETTINGS = (\"localhost\", 5432, \"readonly_user\")\n",
    "print(DATABASE_SETTINGS)"
   ]
  },
  {
   "cell_type": "markdown",
   "id": "37d6eec8",
   "metadata": {},
   "source": [
    "Common Pitfalls to Avoid When Using Tuples in Python"
   ]
  },
  {
   "cell_type": "markdown",
   "id": "e5601b6e",
   "metadata": {},
   "source": [
    "1. Confusing a Single-Element Tuple with a Regular Variable\n",
    "\n",
    "“A single-element tuple requires a comma ',' \" \n",
    "\n",
    "else:\n",
    "\n",
    "        print (“it is not a tuple.”)"
   ]
  },
  {
   "cell_type": "code",
   "execution_count": 43,
   "id": "552415b3",
   "metadata": {},
   "outputs": [
    {
     "name": "stdout",
     "output_type": "stream",
     "text": [
      "<class 'int'> <class 'tuple'>\n"
     ]
    }
   ],
   "source": [
    "x = (5)      #  This is just an integer\n",
    "y = (5,)     #  This is a tuple with one element\n",
    "\n",
    "print(type(x), type(y))\n"
   ]
  },
  {
   "cell_type": "markdown",
   "id": "139827a6",
   "metadata": {},
   "source": [
    "2. Trying to Modify a Tuple"
   ]
  },
  {
   "cell_type": "code",
   "execution_count": 45,
   "id": "4c24b61f",
   "metadata": {},
   "outputs": [
    {
     "ename": "TypeError",
     "evalue": "'tuple' object does not support item assignment",
     "output_type": "error",
     "traceback": [
      "\u001b[31m---------------------------------------------------------------------------\u001b[39m",
      "\u001b[31mTypeError\u001b[39m                                 Traceback (most recent call last)",
      "\u001b[36mCell\u001b[39m\u001b[36m \u001b[39m\u001b[32mIn[45]\u001b[39m\u001b[32m, line 2\u001b[39m\n\u001b[32m      1\u001b[39m t = (\u001b[32m1\u001b[39m, \u001b[32m2\u001b[39m, \u001b[32m3\u001b[39m)\n\u001b[32m----> \u001b[39m\u001b[32m2\u001b[39m \u001b[43mt\u001b[49m\u001b[43m[\u001b[49m\u001b[32;43m0\u001b[39;49m\u001b[43m]\u001b[49m = \u001b[32m10\u001b[39m  \u001b[38;5;66;03m#  TypeError\u001b[39;00m\n\u001b[32m      3\u001b[39m t.append(\u001b[32m4\u001b[39m)  \u001b[38;5;66;03m#  AttributeError\u001b[39;00m\n",
      "\u001b[31mTypeError\u001b[39m: 'tuple' object does not support item assignment"
     ]
    }
   ],
   "source": [
    "t = (1, 2, 3)\n",
    "t[0] = 10  #  TypeError\n",
    "t.append(4)  #  AttributeError"
   ]
  },
  {
   "cell_type": "code",
   "execution_count": 48,
   "id": "19194913",
   "metadata": {},
   "outputs": [
    {
     "name": "stdout",
     "output_type": "stream",
     "text": [
      "(10, 2, 3)\n"
     ]
    }
   ],
   "source": [
    "temp = list(t)\n",
    "temp[0] = 10\n",
    "t = tuple(temp)\n",
    "print(t)"
   ]
  },
  {
   "cell_type": "markdown",
   "id": "640190cd",
   "metadata": {},
   "source": [
    "3. Using Mutable Objects Inside Tuples"
   ]
  },
  {
   "cell_type": "code",
   "execution_count": 49,
   "id": "e9cb16a0",
   "metadata": {},
   "outputs": [
    {
     "name": "stdout",
     "output_type": "stream",
     "text": [
      "([1, 2, 4], 3)\n"
     ]
    }
   ],
   "source": [
    "t = ([1, 2], 3)\n",
    "t[0].append(4)\n",
    "print(t)  # Output: ([1, 2, 4], 3)"
   ]
  },
  {
   "cell_type": "markdown",
   "id": "52e921c5",
   "metadata": {},
   "source": [
    "4. Assuming All Tuples Are Hashable"
   ]
  },
  {
   "cell_type": "code",
   "execution_count": 50,
   "id": "f1fb3880",
   "metadata": {},
   "outputs": [],
   "source": [
    "t1 = (1, 2)         #  Hashable\n",
    "t2 = ([1, 2], 3)    #  Not hashable due to list\n",
    "# my_dict = {t2: \"value\"}  # Raises TypeError"
   ]
  },
  {
   "cell_type": "markdown",
   "id": "8b8238ca",
   "metadata": {},
   "source": [
    "5. Mixing Up Tuples and Lists When Order Matters"
   ]
  },
  {
   "cell_type": "code",
   "execution_count": 54,
   "id": "dcf2c262",
   "metadata": {},
   "outputs": [
    {
     "name": "stdout",
     "output_type": "stream",
     "text": [
      "Tuple (1, 2, 3) , List [1, 2, 3]\n"
     ]
    }
   ],
   "source": [
    "data = (1, 2, 3)   # Tuple — use when data is fixed\n",
    "items = [1, 2, 3]  # List — use when data may change\n",
    "\n",
    "print(f\"Tuple {data} , List {items}\")"
   ]
  },
  {
   "cell_type": "markdown",
   "id": "6e9f686a",
   "metadata": {},
   "source": [
    "6. Misusing Tuple Unpacking"
   ]
  },
  {
   "cell_type": "code",
   "execution_count": 55,
   "id": "ecad382c",
   "metadata": {},
   "outputs": [
    {
     "ename": "ValueError",
     "evalue": "not enough values to unpack (expected 3, got 2)",
     "output_type": "error",
     "traceback": [
      "\u001b[31m---------------------------------------------------------------------------\u001b[39m",
      "\u001b[31mValueError\u001b[39m                                Traceback (most recent call last)",
      "\u001b[36mCell\u001b[39m\u001b[36m \u001b[39m\u001b[32mIn[55]\u001b[39m\u001b[32m, line 2\u001b[39m\n\u001b[32m      1\u001b[39m point = (\u001b[32m10\u001b[39m, \u001b[32m20\u001b[39m)\n\u001b[32m----> \u001b[39m\u001b[32m2\u001b[39m x, y, z = point  \u001b[38;5;66;03m# ValueError: not enough values to unpack\u001b[39;00m\n",
      "\u001b[31mValueError\u001b[39m: not enough values to unpack (expected 3, got 2)"
     ]
    }
   ],
   "source": [
    "point = (10, 20)\n",
    "x, y, z = point  # ValueError: not enough values to unpack"
   ]
  },
  {
   "cell_type": "code",
   "execution_count": 56,
   "id": "217a739e",
   "metadata": {},
   "outputs": [],
   "source": [
    "x, y, *rest = (1, 2, 3, 4)  # x=1, y=2, rest=[3, 4]"
   ]
  },
  {
   "cell_type": "markdown",
   "id": "25775461",
   "metadata": {},
   "source": [
    "7. Ignoring Performance Benefits"
   ]
  },
  {
   "cell_type": "code",
   "execution_count": 57,
   "id": "90af0292",
   "metadata": {},
   "outputs": [],
   "source": [
    "# Inefficient if you're not modifying it\n",
    "constants = [3.14, 9.8]  # ❌\n",
    "\n",
    "# Better\n",
    "constants = (3.14, 9.8)  # ✅"
   ]
  },
  {
   "cell_type": "markdown",
   "id": "1f20aade",
   "metadata": {},
   "source": []
  },
  {
   "cell_type": "code",
   "execution_count": null,
   "id": "a7c0e669",
   "metadata": {},
   "outputs": [],
   "source": []
  }
 ],
 "metadata": {
  "kernelspec": {
   "display_name": "Python 3",
   "language": "python",
   "name": "python3"
  },
  "language_info": {
   "codemirror_mode": {
    "name": "ipython",
    "version": 3
   },
   "file_extension": ".py",
   "mimetype": "text/x-python",
   "name": "python",
   "nbconvert_exporter": "python",
   "pygments_lexer": "ipython3",
   "version": "3.13.3"
  }
 },
 "nbformat": 4,
 "nbformat_minor": 5
}
