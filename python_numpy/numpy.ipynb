{
  "cells": [
    {
      "cell_type": "code",
      "execution_count": 335,
      "metadata": {
        "id": "ERL9IY5OLaMS"
      },
      "outputs": [],
      "source": [
        "# numpy --> numerical python\n",
        "\n",
        "import numpy as np"
      ]
    },
    {
      "cell_type": "markdown",
      "metadata": {
        "id": "9Gn_gkDoRRfJ"
      },
      "source": [
        "1D array"
      ]
    },
    {
      "cell_type": "code",
      "execution_count": 336,
      "metadata": {
        "colab": {
          "base_uri": "https://localhost:8080/"
        },
        "id": "NqvR7k9oQJdl",
        "outputId": "df927dc7-cc81-49b1-a51a-0988c0dcc7da"
      },
      "outputs": [
        {
          "name": "stdout",
          "output_type": "stream",
          "text": [
            "[1 8 4 6 5 2 3 7]\n"
          ]
        }
      ],
      "source": [
        "array_file_1D = np.array([1,8,4,6,5,2,3,7])\n",
        "print(array_file_1D)"
      ]
    },
    {
      "cell_type": "code",
      "execution_count": 337,
      "metadata": {
        "colab": {
          "base_uri": "https://localhost:8080/"
        },
        "id": "JdAuXqgVdqCX",
        "outputId": "a1df8af3-3c12-467a-f832-d5e60519d1e5"
      },
      "outputs": [
        {
          "data": {
            "text/plain": [
              "(8,)"
            ]
          },
          "execution_count": 337,
          "metadata": {},
          "output_type": "execute_result"
        }
      ],
      "source": [
        "array_file_1D.shape"
      ]
    },
    {
      "cell_type": "markdown",
      "metadata": {
        "id": "D6j5T-ljRsMm"
      },
      "source": [
        "2D array"
      ]
    },
    {
      "cell_type": "code",
      "execution_count": 338,
      "metadata": {
        "colab": {
          "base_uri": "https://localhost:8080/"
        },
        "id": "X4TGGkr1Rmfb",
        "outputId": "da9d596f-968c-4a36-cdb6-49d790dfe568"
      },
      "outputs": [
        {
          "name": "stdout",
          "output_type": "stream",
          "text": [
            "[[ 2  3  4  5  6  7]\n",
            " [ 3  4  5  6  7  8]\n",
            " [ 5  6  7  8  9 10]]\n"
          ]
        }
      ],
      "source": [
        "array_file_2D = np.array([[2,3,4,5,6,7],\n",
        "                          [3,4,5,6,7,8],\n",
        "                          [5,6,7,8,9,10]])\n",
        "\n",
        "print(array_file_2D)"
      ]
    },
    {
      "cell_type": "code",
      "execution_count": 339,
      "metadata": {
        "colab": {
          "base_uri": "https://localhost:8080/"
        },
        "id": "oUWKceIedwCN",
        "outputId": "962e21a8-53dd-436e-ef71-b5bd0f7ff46a"
      },
      "outputs": [
        {
          "data": {
            "text/plain": [
              "(3, 6)"
            ]
          },
          "execution_count": 339,
          "metadata": {},
          "output_type": "execute_result"
        }
      ],
      "source": [
        "array_file_2D.shape"
      ]
    },
    {
      "cell_type": "markdown",
      "metadata": {
        "id": "O6eP_YRXSYVq"
      },
      "source": [
        "3D array"
      ]
    },
    {
      "cell_type": "code",
      "execution_count": 340,
      "metadata": {
        "colab": {
          "base_uri": "https://localhost:8080/"
        },
        "id": "kWVS-o4tRplj",
        "outputId": "460293c2-9fee-4627-9457-6f2c0c2046d6"
      },
      "outputs": [
        {
          "name": "stdout",
          "output_type": "stream",
          "text": [
            "[[[ 1  2  3  4]\n",
            "  [ 2  3  4  5]]\n",
            "\n",
            " [[ 3  4  5  6]\n",
            "  [ 5  6  7  8]]\n",
            "\n",
            " [[ 9 10 11 12]\n",
            "  [12 13 14 15]]]\n"
          ]
        }
      ],
      "source": [
        "array_file_3D = np.array([[[1,2,3,4],\n",
        "                           [2,3,4,5,]],\n",
        "\n",
        "                           [[3,4,5,6],\n",
        "                           [5,6,7,8]],\n",
        "\n",
        "                            [[9,10,11,12],\n",
        "                             [12,13,14,15]]])\n",
        "\n",
        "print(array_file_3D)"
      ]
    },
    {
      "cell_type": "markdown",
      "metadata": {
        "id": "xHZ6DpZt5r-G"
      },
      "source": [
        "indexing and slicing\n"
      ]
    },
    {
      "cell_type": "code",
      "execution_count": 341,
      "metadata": {
        "colab": {
          "base_uri": "https://localhost:8080/"
        },
        "id": "Ynt5qEOISrO8",
        "outputId": "87a5038f-22ed-4ea9-d449-d1c06c676703"
      },
      "outputs": [
        {
          "name": "stdout",
          "output_type": "stream",
          "text": [
            "8 bytes\n"
          ]
        }
      ],
      "source": [
        "print(array_file_3D.itemsize, \"bytes\")"
      ]
    },
    {
      "cell_type": "code",
      "execution_count": 342,
      "metadata": {
        "colab": {
          "base_uri": "https://localhost:8080/"
        },
        "id": "c1IXdJcy6PfH",
        "outputId": "79f4fbc6-eb64-4d06-9f0f-0f3af56722c6"
      },
      "outputs": [
        {
          "name": "stdout",
          "output_type": "stream",
          "text": [
            "[5 6 7 8]\n"
          ]
        }
      ],
      "source": [
        "print(array_file_3D[1,1])"
      ]
    },
    {
      "cell_type": "code",
      "execution_count": 343,
      "metadata": {
        "colab": {
          "base_uri": "https://localhost:8080/"
        },
        "id": "qtqDINab6fxB",
        "outputId": "7472e78c-0d32-44f3-ad8b-3740d4b8b190"
      },
      "outputs": [
        {
          "name": "stdout",
          "output_type": "stream",
          "text": [
            "7\n"
          ]
        }
      ],
      "source": [
        "print(array_file_2D[2,2])"
      ]
    },
    {
      "cell_type": "code",
      "execution_count": 344,
      "metadata": {
        "colab": {
          "base_uri": "https://localhost:8080/"
        },
        "id": "8SZBiHcd60CL",
        "outputId": "95cbca66-f517-481b-953c-c5a403c56693"
      },
      "outputs": [
        {
          "name": "stdout",
          "output_type": "stream",
          "text": [
            "12\n"
          ]
        }
      ],
      "source": [
        "print(array_file_3D[2,0,3])"
      ]
    },
    {
      "cell_type": "code",
      "execution_count": 345,
      "metadata": {
        "colab": {
          "base_uri": "https://localhost:8080/"
        },
        "id": "rFnUuugQ7jnb",
        "outputId": "aaf60c2e-3cf1-4045-84a0-d2ed56b3cff8"
      },
      "outputs": [
        {
          "name": "stdout",
          "output_type": "stream",
          "text": [
            "[8 4 6 5 2 3 7]\n"
          ]
        }
      ],
      "source": [
        "print(array_file_1D[1:])"
      ]
    },
    {
      "cell_type": "code",
      "execution_count": 346,
      "metadata": {
        "colab": {
          "base_uri": "https://localhost:8080/"
        },
        "id": "p7YBtR7c80sr",
        "outputId": "cf9243e0-903f-4685-b328-9f50ed688b76"
      },
      "outputs": [
        {
          "name": "stdout",
          "output_type": "stream",
          "text": [
            "[[ 4  5  6  7  8]\n",
            " [ 6  7  8  9 10]]\n"
          ]
        }
      ],
      "source": [
        "print(array_file_2D[1:,1:])"
      ]
    },
    {
      "cell_type": "code",
      "execution_count": 347,
      "metadata": {
        "colab": {
          "base_uri": "https://localhost:8080/"
        },
        "id": "I_-T7-0m9U8L",
        "outputId": "23656ac5-3b93-4c22-a7bc-36d6c5517c39"
      },
      "outputs": [
        {
          "name": "stdout",
          "output_type": "stream",
          "text": [
            "[[ 6  7  8  9 10]]\n"
          ]
        }
      ],
      "source": [
        "print(array_file_2D[2:,1:])"
      ]
    },
    {
      "cell_type": "code",
      "execution_count": 348,
      "metadata": {
        "colab": {
          "base_uri": "https://localhost:8080/"
        },
        "id": "Wet7B7699s7V",
        "outputId": "fece17fd-572e-463e-ed8f-7a670e4f2931"
      },
      "outputs": [
        {
          "name": "stdout",
          "output_type": "stream",
          "text": [
            "[[3 4 5]\n",
            " [6 7 8]]\n"
          ]
        }
      ],
      "source": [
        "print(array_file_3D[0:2,1,1:])"
      ]
    },
    {
      "cell_type": "markdown",
      "metadata": {},
      "source": [
        "[14,15] in 3D"
      ]
    },
    {
      "cell_type": "code",
      "execution_count": 349,
      "metadata": {
        "id": "_TshuJwF-y1_"
      },
      "outputs": [
        {
          "name": "stdout",
          "output_type": "stream",
          "text": [
            "[14 15]\n"
          ]
        }
      ],
      "source": [
        "print(array_file_3D[2,1,2:])"
      ]
    },
    {
      "cell_type": "code",
      "execution_count": 350,
      "metadata": {},
      "outputs": [
        {
          "data": {
            "text/plain": [
              "True"
            ]
          },
          "execution_count": 350,
          "metadata": {},
          "output_type": "execute_result"
        }
      ],
      "source": [
        "15 in array_file_3D"
      ]
    },
    {
      "cell_type": "markdown",
      "metadata": {},
      "source": [
        "arthmatic operation"
      ]
    },
    {
      "cell_type": "code",
      "execution_count": 351,
      "metadata": {},
      "outputs": [
        {
          "name": "stdout",
          "output_type": "stream",
          "text": [
            "[[1 2]\n",
            " [3 4]]\n",
            "[[10 20]\n",
            " [30 40]]\n"
          ]
        }
      ],
      "source": [
        "a = np.array([[1, 2], [3, 4]])\n",
        "b = np.array([[10, 20], [30, 40]])\n",
        "\n",
        "print(a)\n",
        "\n",
        "print(b)\n"
      ]
    },
    {
      "cell_type": "code",
      "execution_count": 352,
      "metadata": {},
      "outputs": [
        {
          "data": {
            "text/plain": [
              "array([[False, False],\n",
              "       [False, False]])"
            ]
          },
          "execution_count": 352,
          "metadata": {},
          "output_type": "execute_result"
        }
      ],
      "source": [
        "a == b"
      ]
    },
    {
      "cell_type": "code",
      "execution_count": 353,
      "metadata": {},
      "outputs": [
        {
          "name": "stdout",
          "output_type": "stream",
          "text": [
            "[[11 22]\n",
            " [33 44]]\n"
          ]
        }
      ],
      "source": [
        "# add\n",
        "\n",
        "print(a+b)"
      ]
    },
    {
      "cell_type": "code",
      "execution_count": 354,
      "metadata": {},
      "outputs": [
        {
          "name": "stdout",
          "output_type": "stream",
          "text": [
            "[[ -9 -18]\n",
            " [-27 -36]]\n",
            "[[ 9 18]\n",
            " [27 36]]\n"
          ]
        }
      ],
      "source": [
        "# subtract\n",
        "\n",
        "print(a-b)\n",
        "#\n",
        "print(b-a)"
      ]
    },
    {
      "cell_type": "code",
      "execution_count": 355,
      "metadata": {},
      "outputs": [
        {
          "name": "stdout",
          "output_type": "stream",
          "text": [
            "[[ 10  40]\n",
            " [ 90 160]]\n",
            "[[ 10  40]\n",
            " [ 90 160]]\n"
          ]
        },
        {
          "data": {
            "text/plain": [
              "array([[ True,  True],\n",
              "       [ True,  True]])"
            ]
          },
          "execution_count": 355,
          "metadata": {},
          "output_type": "execute_result"
        }
      ],
      "source": [
        "# multiplication\n",
        "\n",
        "print(a*b)\n",
        "print(b*a)\n",
        "\n",
        "a*b == b*a"
      ]
    },
    {
      "cell_type": "code",
      "execution_count": 356,
      "metadata": {},
      "outputs": [
        {
          "name": "stdout",
          "output_type": "stream",
          "text": [
            "[[0.1 0.1]\n",
            " [0.1 0.1]]\n",
            "[[10. 10.]\n",
            " [10. 10.]]\n"
          ]
        }
      ],
      "source": [
        "# division\n",
        "\n",
        "print(a/b)\n",
        "print(b/a)"
      ]
    },
    {
      "cell_type": "code",
      "execution_count": 357,
      "metadata": {},
      "outputs": [
        {
          "name": "stdout",
          "output_type": "stream",
          "text": [
            "[[10 10]\n",
            " [10 10]]\n"
          ]
        }
      ],
      "source": [
        "# Floor division\n",
        "print(b//a)"
      ]
    },
    {
      "cell_type": "code",
      "execution_count": 358,
      "metadata": {},
      "outputs": [
        {
          "name": "stdout",
          "output_type": "stream",
          "text": [
            "[[ 1  4]\n",
            " [ 9 16]]\n",
            "[[ 1  8]\n",
            " [27 64]]\n",
            "[[  1  16]\n",
            " [ 81 256]]\n"
          ]
        }
      ],
      "source": [
        "# power\n",
        "\n",
        "print(a**2)\n",
        "print(a**3)\n",
        "print(a**4)"
      ]
    },
    {
      "cell_type": "markdown",
      "metadata": {},
      "source": [
        "Transpose"
      ]
    },
    {
      "cell_type": "code",
      "execution_count": 359,
      "metadata": {},
      "outputs": [
        {
          "name": "stdout",
          "output_type": "stream",
          "text": [
            "[[1 4 7]\n",
            " [2 5 8]\n",
            " [3 6 9]]\n"
          ]
        }
      ],
      "source": [
        "arr = np.array([[1, 2, 3],\n",
        "                [4, 5, 6],\n",
        "                [7, 8, 9]])\n",
        "\n",
        "print(arr.transpose())"
      ]
    },
    {
      "cell_type": "code",
      "execution_count": 360,
      "metadata": {},
      "outputs": [
        {
          "name": "stdout",
          "output_type": "stream",
          "text": [
            "[[1 4 7]\n",
            " [2 5 8]\n",
            " [3 6 9]]\n"
          ]
        }
      ],
      "source": [
        "print(arr.T)"
      ]
    },
    {
      "cell_type": "markdown",
      "metadata": {},
      "source": [
        "Sorting"
      ]
    },
    {
      "cell_type": "code",
      "execution_count": 361,
      "metadata": {},
      "outputs": [
        {
          "data": {
            "text/plain": [
              "array([ 1,  2,  3,  4,  5,  6,  8, 10])"
            ]
          },
          "execution_count": 361,
          "metadata": {},
          "output_type": "execute_result"
        }
      ],
      "source": [
        "arr_1D = np.array([2, 4, 6, 8, 10,1, 3, 5])\n",
        "sort_1D = np.sort(arr_1D)\n",
        "sort_1D"
      ]
    },
    {
      "cell_type": "code",
      "execution_count": 362,
      "metadata": {},
      "outputs": [
        {
          "name": "stdout",
          "output_type": "stream",
          "text": [
            "[ 2  4  6  8 10  1  3  5]\n",
            "[ 1  2  3  4  5  6  8 10]\n",
            "[10  8  6  5  4  3  2  1]\n",
            "[10  8  6  5  4  3  2  1]\n"
          ]
        }
      ],
      "source": [
        "print(arr_1D)\n",
        "print(np.sort(arr_1D))\n",
        "print(np.sort(arr_1D)[::-1])\n",
        "\n",
        "print( np.array(sorted(arr_1D, reverse=True)))\n"
      ]
    },
    {
      "cell_type": "code",
      "execution_count": 363,
      "metadata": {},
      "outputs": [
        {
          "name": "stdout",
          "output_type": "stream",
          "text": [
            "[1 2 3 4 5 6 7 8]\n"
          ]
        }
      ],
      "source": [
        "print(np.sort(array_file_1D))"
      ]
    },
    {
      "cell_type": "code",
      "execution_count": 364,
      "metadata": {},
      "outputs": [
        {
          "name": "stdout",
          "output_type": "stream",
          "text": [
            "[[ 2  3  4  5  6  7]\n",
            " [ 3  4  5  6  7  8]\n",
            " [ 5  6  7  8  9 10]]\n"
          ]
        }
      ],
      "source": [
        "print(np.sort(array_file_2D))"
      ]
    },
    {
      "cell_type": "code",
      "execution_count": 365,
      "metadata": {},
      "outputs": [
        {
          "name": "stdout",
          "output_type": "stream",
          "text": [
            "[[[ 1  2  3  4]\n",
            "  [ 2  3  4  5]]\n",
            "\n",
            " [[ 3  4  5  6]\n",
            "  [ 5  6  7  8]]\n",
            "\n",
            " [[ 9 10 11 12]\n",
            "  [12 13 14 15]]]\n"
          ]
        }
      ],
      "source": [
        "print(np.sort(array_file_3D))"
      ]
    },
    {
      "cell_type": "code",
      "execution_count": 366,
      "metadata": {},
      "outputs": [
        {
          "name": "stdout",
          "output_type": "stream",
          "text": [
            "[[[ 1  3  9]\n",
            "  [ 2  5 12]]\n",
            "\n",
            " [[ 2  4 10]\n",
            "  [ 3  6 13]]\n",
            "\n",
            " [[ 3  5 11]\n",
            "  [ 4  7 14]]\n",
            "\n",
            " [[ 4  6 12]\n",
            "  [ 5  8 15]]]\n"
          ]
        }
      ],
      "source": [
        "print(array_file_3D.T)"
      ]
    },
    {
      "cell_type": "code",
      "execution_count": 367,
      "metadata": {},
      "outputs": [
        {
          "name": "stdout",
          "output_type": "stream",
          "text": [
            "[[ 2  3  5]\n",
            " [ 3  4  6]\n",
            " [ 4  5  7]\n",
            " [ 5  6  8]\n",
            " [ 6  7  9]\n",
            " [ 7  8 10]]\n"
          ]
        }
      ],
      "source": [
        "print(array_file_2D.T)"
      ]
    },
    {
      "cell_type": "code",
      "execution_count": 368,
      "metadata": {},
      "outputs": [
        {
          "name": "stdout",
          "output_type": "stream",
          "text": [
            "[[ 2  3  4  5  6  7]\n",
            " [ 3  4  5  6  7  8]\n",
            " [ 5  6  7  8  9 10]]\n"
          ]
        }
      ],
      "source": [
        "print(np.sort(array_file_2D, axis=0))"
      ]
    },
    {
      "cell_type": "code",
      "execution_count": 369,
      "metadata": {},
      "outputs": [
        {
          "name": "stdout",
          "output_type": "stream",
          "text": [
            "[[ 2  3  5]\n",
            " [ 3  4  6]\n",
            " [ 4  5  7]\n",
            " [ 5  6  8]\n",
            " [ 6  7  9]\n",
            " [ 7  8 10]]\n"
          ]
        }
      ],
      "source": [
        "print(np.sort(array_file_2D.T, axis=1))"
      ]
    },
    {
      "cell_type": "markdown",
      "metadata": {},
      "source": [
        "Argsort"
      ]
    },
    {
      "cell_type": "code",
      "execution_count": 370,
      "metadata": {},
      "outputs": [
        {
          "name": "stdout",
          "output_type": "stream",
          "text": [
            "[[[ 1  2  3  4]\n",
            "  [ 2  3  4  5]]\n",
            "\n",
            " [[ 3  4  5  6]\n",
            "  [ 5  6  7  8]]\n",
            "\n",
            " [[ 9 10 11 12]\n",
            "  [12 13 14 15]]]\n",
            "[[[0 1 2 3]\n",
            "  [0 1 2 3]]\n",
            "\n",
            " [[0 1 2 3]\n",
            "  [0 1 2 3]]\n",
            "\n",
            " [[0 1 2 3]\n",
            "  [0 1 2 3]]]\n"
          ]
        }
      ],
      "source": [
        "print(np.sort(array_file_3D)) # sort array\n",
        "print(np.argsort(array_file_3D)) # show sort index"
      ]
    },
    {
      "cell_type": "markdown",
      "metadata": {},
      "source": [
        "top 3 pick"
      ]
    },
    {
      "cell_type": "code",
      "execution_count": 371,
      "metadata": {},
      "outputs": [
        {
          "name": "stdout",
          "output_type": "stream",
          "text": [
            "[1 2 3 7 9]\n",
            "[3 7 9 1 2]\n",
            "[3 4 0 1 2]\n"
          ]
        }
      ],
      "source": [
        "\n",
        "top = np.array([3,7,9,1,2])\n",
        "\n",
        "print(np.sort(top)) # sorted array\n",
        "print(top) # orignal array\n",
        "print(np.argsort(top)) # sort for top ranks\n"
      ]
    },
    {
      "cell_type": "code",
      "execution_count": 372,
      "metadata": {},
      "outputs": [
        {
          "name": "stdout",
          "output_type": "stream",
          "text": [
            "[[1 2 4]\n",
            " [3 5 6]]\n",
            "[[1 4 2]\n",
            " [3 6 5]]\n",
            "[[1 2 4]\n",
            " [3 5 6]]\n"
          ]
        }
      ],
      "source": [
        "arr1 =[[1, 4, 2],\n",
        "       [3, 6, 5]]\n",
        "\n",
        "print(np.sort(arr1))\n",
        "print(np.sort(arr1, axis=0))\n",
        "print(np.sort(arr1, axis=1))"
      ]
    },
    {
      "cell_type": "markdown",
      "metadata": {},
      "source": [
        "Reshape"
      ]
    },
    {
      "cell_type": "code",
      "execution_count": 373,
      "metadata": {},
      "outputs": [
        {
          "name": "stdout",
          "output_type": "stream",
          "text": [
            "[ 2  4  6  8 10  1  3  5]\n"
          ]
        }
      ],
      "source": [
        "print(arr_1D)"
      ]
    },
    {
      "cell_type": "code",
      "execution_count": 374,
      "metadata": {},
      "outputs": [
        {
          "name": "stdout",
          "output_type": "stream",
          "text": [
            "[[ 2  4]\n",
            " [ 6  8]\n",
            " [10  1]\n",
            " [ 3  5]]\n"
          ]
        }
      ],
      "source": [
        "print(arr_1D.reshape(4,2))"
      ]
    },
    {
      "cell_type": "markdown",
      "metadata": {},
      "source": [
        "2D to 1D"
      ]
    },
    {
      "cell_type": "code",
      "execution_count": 378,
      "metadata": {},
      "outputs": [
        {
          "name": "stdout",
          "output_type": "stream",
          "text": [
            "[ 2  3  4  5  6  7  3  4  5  6  7  8  5  6  7  8  9 10]\n"
          ]
        }
      ],
      "source": [
        "print(array_file_2D.reshape(-1))\n"
      ]
    },
    {
      "cell_type": "markdown",
      "metadata": {},
      "source": [
        "Two methods\n",
        "\n",
        "concat -> pandas [deals with labeled-data]\n",
        "\n",
        "concatenate -> numpy [array-focused]\n",
        "\n",
        "\n",
        "\n"
      ]
    },
    {
      "cell_type": "markdown",
      "metadata": {},
      "source": [
        "Statistical Operations: Mean, Median and Mode, Standard Deviation, Min, Max, Sum\n",
        "\n",
        "np.median => Median\n",
        "\n",
        "np.std => Standard Deviation\n",
        "\n",
        "np.min => Minimum Value\n",
        "\n",
        "np.max => Maximum Value\n",
        "\n",
        "np.sum => Sum"
      ]
    },
    {
      "cell_type": "code",
      "execution_count": 380,
      "metadata": {},
      "outputs": [],
      "source": [
        "arr = np.array([[3,4,5,],\n",
        "               [6,7,8]])"
      ]
    },
    {
      "cell_type": "code",
      "execution_count": 385,
      "metadata": {},
      "outputs": [
        {
          "name": "stdout",
          "output_type": "stream",
          "text": [
            "3\n",
            "8\n",
            "33\n",
            "1.707825127659933\n",
            "5.5\n"
          ]
        }
      ],
      "source": [
        "\n",
        "print(np.min(arr))\n",
        "print(np.max(arr))\n",
        "print(np.sum(arr))\n",
        "print(np.std(arr))\n",
        "print(np.median(arr))"
      ]
    },
    {
      "cell_type": "markdown",
      "metadata": {},
      "source": [
        "Data Creation ways of NumPy Arrays"
      ]
    },
    {
      "cell_type": "code",
      "execution_count": 387,
      "metadata": {},
      "outputs": [
        {
          "data": {
            "text/plain": [
              "array([0., 0., 0., 0., 0., 0.])"
            ]
          },
          "execution_count": 387,
          "metadata": {},
          "output_type": "execute_result"
        }
      ],
      "source": [
        "arr = np.zeros(6)\n",
        "arr"
      ]
    },
    {
      "cell_type": "code",
      "execution_count": 394,
      "metadata": {},
      "outputs": [
        {
          "data": {
            "text/plain": [
              "array([[[0, 0, 0, 0],\n",
              "        [0, 0, 0, 0],\n",
              "        [0, 0, 0, 0]],\n",
              "\n",
              "       [[0, 0, 0, 0],\n",
              "        [0, 0, 0, 0],\n",
              "        [0, 0, 0, 0]]])"
            ]
          },
          "execution_count": 394,
          "metadata": {},
          "output_type": "execute_result"
        }
      ],
      "source": [
        "arr = np.zeros((2,3,4), dtype=int)\n",
        "arr"
      ]
    },
    {
      "cell_type": "code",
      "execution_count": 395,
      "metadata": {},
      "outputs": [
        {
          "data": {
            "text/plain": [
              "array([[['', '', '', ''],\n",
              "        ['', '', '', ''],\n",
              "        ['', '', '', '']],\n",
              "\n",
              "       [['', '', '', ''],\n",
              "        ['', '', '', ''],\n",
              "        ['', '', '', '']]], dtype='<U1')"
            ]
          },
          "execution_count": 395,
          "metadata": {},
          "output_type": "execute_result"
        }
      ],
      "source": [
        "arr = np.zeros((2,3,4), dtype=str)\n",
        "arr"
      ]
    },
    {
      "cell_type": "code",
      "execution_count": 396,
      "metadata": {},
      "outputs": [
        {
          "data": {
            "text/plain": [
              "array([[[1, 1, 1, 1],\n",
              "        [1, 1, 1, 1],\n",
              "        [1, 1, 1, 1]],\n",
              "\n",
              "       [[1, 1, 1, 1],\n",
              "        [1, 1, 1, 1],\n",
              "        [1, 1, 1, 1]]])"
            ]
          },
          "execution_count": 396,
          "metadata": {},
          "output_type": "execute_result"
        }
      ],
      "source": [
        "arr = np.ones((2,3,4), dtype=int)\n",
        "arr"
      ]
    },
    {
      "cell_type": "code",
      "execution_count": 397,
      "metadata": {},
      "outputs": [
        {
          "data": {
            "text/plain": [
              "array([[[421, 421, 421, 421],\n",
              "        [421, 421, 421, 421],\n",
              "        [421, 421, 421, 421]],\n",
              "\n",
              "       [[421, 421, 421, 421],\n",
              "        [421, 421, 421, 421],\n",
              "        [421, 421, 421, 421]]])"
            ]
          },
          "execution_count": 397,
          "metadata": {},
          "output_type": "execute_result"
        }
      ],
      "source": [
        "arr = np.full((2,3,4), 421)\n",
        "arr"
      ]
    },
    {
      "cell_type": "code",
      "execution_count": 403,
      "metadata": {},
      "outputs": [
        {
          "data": {
            "text/plain": [
              "array([[1., 0., 0., 0.],\n",
              "       [0., 1., 0., 0.],\n",
              "       [0., 0., 1., 0.],\n",
              "       [0., 0., 0., 1.]])"
            ]
          },
          "execution_count": 403,
          "metadata": {},
          "output_type": "execute_result"
        }
      ],
      "source": [
        "arr = np.eye(4,4)\n",
        "arr"
      ]
    },
    {
      "cell_type": "markdown",
      "metadata": {},
      "source": [
        "np.arange(start, stop, step_size)"
      ]
    },
    {
      "cell_type": "code",
      "execution_count": 406,
      "metadata": {},
      "outputs": [
        {
          "data": {
            "text/plain": [
              "array([0, 1, 2, 3, 4, 5, 6, 7, 8, 9])"
            ]
          },
          "execution_count": 406,
          "metadata": {},
          "output_type": "execute_result"
        }
      ],
      "source": [
        "arr = np.arange(10)\n",
        "arr"
      ]
    },
    {
      "cell_type": "code",
      "execution_count": 408,
      "metadata": {},
      "outputs": [
        {
          "data": {
            "text/plain": [
              "array([3, 4, 5, 6, 7, 8, 9])"
            ]
          },
          "execution_count": 408,
          "metadata": {},
          "output_type": "execute_result"
        }
      ],
      "source": [
        "arr = np.arange(3,10)\n",
        "arr"
      ]
    },
    {
      "cell_type": "code",
      "execution_count": 410,
      "metadata": {},
      "outputs": [
        {
          "data": {
            "text/plain": [
              "array([3, 5, 7, 9])"
            ]
          },
          "execution_count": 410,
          "metadata": {},
          "output_type": "execute_result"
        }
      ],
      "source": [
        "arr = np.arange(3,10,2)\n",
        "arr"
      ]
    },
    {
      "cell_type": "markdown",
      "metadata": {},
      "source": [
        "Random"
      ]
    },
    {
      "cell_type": "code",
      "execution_count": 421,
      "metadata": {},
      "outputs": [
        {
          "name": "stdout",
          "output_type": "stream",
          "text": [
            "[[0.40014674 0.20113111 0.44917499]\n",
            " [0.30652835 0.47563647 0.82758348]]\n"
          ]
        }
      ],
      "source": [
        "arr = np.random.random((2,3))\n",
        "print(arr)"
      ]
    },
    {
      "cell_type": "code",
      "execution_count": 453,
      "metadata": {},
      "outputs": [
        {
          "name": "stdout",
          "output_type": "stream",
          "text": [
            "[[11  9  7]\n",
            " [ 8 13  3]]\n"
          ]
        }
      ],
      "source": [
        "arr = np.random.randint( 0,15,size=(2, 3))\n",
        "print(arr)\n"
      ]
    },
    {
      "cell_type": "code",
      "execution_count": null,
      "metadata": {},
      "outputs": [],
      "source": []
    },
    {
      "cell_type": "code",
      "execution_count": null,
      "metadata": {},
      "outputs": [],
      "source": []
    }
  ],
  "metadata": {
    "colab": {
      "provenance": []
    },
    "kernelspec": {
      "display_name": "Python 3",
      "name": "python3"
    },
    "language_info": {
      "codemirror_mode": {
        "name": "ipython",
        "version": 3
      },
      "file_extension": ".py",
      "mimetype": "text/x-python",
      "name": "python",
      "nbconvert_exporter": "python",
      "pygments_lexer": "ipython3",
      "version": "3.13.3"
    }
  },
  "nbformat": 4,
  "nbformat_minor": 0
}
