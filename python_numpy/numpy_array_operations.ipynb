{
 "cells": [
  {
   "cell_type": "markdown",
   "metadata": {},
   "source": [
    "## Numpy Array operations"
   ]
  },
  {
   "cell_type": "code",
   "execution_count": 2,
   "metadata": {},
   "outputs": [],
   "source": [
    "import numpy as np"
   ]
  },
  {
   "cell_type": "code",
   "execution_count": 30,
   "metadata": {},
   "outputs": [
    {
     "name": "stdout",
     "output_type": "stream",
     "text": [
      "Arrat list:  [ 1  2  3  4  5  6  7  8  9 10]\n",
      "Basic slicing:  [3 4 5 6 7]\n",
      "with step:  [1, 8, 3]\n",
      "negative indexing:  10\n"
     ]
    }
   ],
   "source": [
    "arr = np.array(range(1,11))\n",
    "print(\"Arrat list: \", arr)\n",
    "print(\"Basic slicing: \", arr[2:7])\n",
    "print(\"with step: \", [1,8,3])\n",
    "print(\"negative indexing: \", arr[-1])"
   ]
  },
  {
   "cell_type": "code",
   "execution_count": 31,
   "metadata": {},
   "outputs": [
    {
     "name": "stdout",
     "output_type": "stream",
     "text": [
      "row 2, col 3 -->  6\n",
      "row 3, col 1 -->  8\n",
      "row 2, col 1 -->  4\n",
      "row 1, col 1 -->  1\n",
      "Entire row 2 -->  [4 5 6]\n",
      "Entire col 3 -->  [3 6 9]\n"
     ]
    }
   ],
   "source": [
    "arr_2d=np.array([[1,2,3],\n",
    "                 [4,5,6],\n",
    "                 [7,8,9]])\n",
    "\n",
    "print(\"row 2, col 3 --> \",arr_2d[1,2])\n",
    "print(\"row 3, col 1 --> \",arr_2d[2,1])\n",
    "print(\"row 2, col 1 --> \",arr_2d[1,0])\n",
    "print(\"row 1, col 1 --> \",arr_2d[0,0])\n",
    "\n",
    "\n",
    "print(\"Entire row 2 --> \", arr_2d[1])\n",
    "print(\"Entire col 3 --> \", arr_2d[:,2])"
   ]
  },
  {
   "cell_type": "markdown",
   "metadata": {},
   "source": [
    "### Sorting"
   ]
  },
  {
   "cell_type": "code",
   "execution_count": 32,
   "metadata": {},
   "outputs": [
    {
     "name": "stdout",
     "output_type": "stream",
     "text": [
      "sorted 2D array by column : \n",
      " [[1 1]\n",
      " [2 2]\n",
      " [3 5]]\n",
      "sorted 2D array by row : \n",
      " [[1 3]\n",
      " [1 2]\n",
      " [2 5]]\n"
     ]
    }
   ],
   "source": [
    "arr_2d_unsorted = np.array([[3,1],\n",
    "                            [1,2],\n",
    "                            [2,5]])\n",
    "\n",
    "print(\"sorted 2D array by column : \\n\", np.sort(arr_2d_unsorted, axis=0))\n",
    "print(\"sorted 2D array by row : \\n\", np.sort(arr_2d_unsorted, axis=1))"
   ]
  },
  {
   "cell_type": "markdown",
   "metadata": {},
   "source": [
    "## Filter"
   ]
  },
  {
   "cell_type": "code",
   "execution_count": null,
   "metadata": {},
   "outputs": [
    {
     "name": "stdout",
     "output_type": "stream",
     "text": [
      "Even numbers:  [ 2  4  6  8 10]\n"
     ]
    }
   ],
   "source": [
    "numbers= np.array([1,2,3,4,5,6,7,8,9,10])\n",
    "even_number=numbers[numbers%2==0]\n",
    "print(\"Even numbers: \", even_number)"
   ]
  },
  {
   "cell_type": "code",
   "execution_count": null,
   "metadata": {},
   "outputs": [
    {
     "name": "stdout",
     "output_type": "stream",
     "text": [
      "number greater than 5:  [ 6  7  8  9 10]\n"
     ]
    }
   ],
   "source": [
    "# filter with mask\n",
    "\n",
    "mask = numbers>5\n",
    "print(\"number greater than 5: \",  numbers[mask])"
   ]
  },
  {
   "cell_type": "code",
   "execution_count": 38,
   "metadata": {},
   "outputs": [
    {
     "name": "stdout",
     "output_type": "stream",
     "text": [
      "number index:  [1 3 5]\n",
      "where result:  (array([5, 6, 7, 8, 9]),)\n",
      "NP where:  [ 6  7  8  9 10]\n"
     ]
    }
   ],
   "source": [
    "\n",
    "indices=[0,2,4]\n",
    "print(\"number index: \", numbers[indices])\n",
    "\n",
    "where_result=np.where(numbers>5)\n",
    "print(\"where result: \", where_result)\n",
    "print(\"NP where: \", numbers[where_result])\n"
   ]
  },
  {
   "cell_type": "code",
   "execution_count": 51,
   "metadata": {},
   "outputs": [
    {
     "name": "stdout",
     "output_type": "stream",
     "text": [
      "[ 1  2  3  4  5 24 28 32 36 40]\n"
     ]
    }
   ],
   "source": [
    "condition_array=np.where(numbers>5, numbers*4, numbers)\n",
    "print(condition_array)"
   ]
  },
  {
   "cell_type": "markdown",
   "metadata": {},
   "source": [
    "### Adding and removing array"
   ]
  },
  {
   "cell_type": "code",
   "execution_count": 53,
   "metadata": {},
   "outputs": [
    {
     "name": "stdout",
     "output_type": "stream",
     "text": [
      "[1 2 3 4 5 6]\n"
     ]
    }
   ],
   "source": [
    "arr1=np.array([1,2,3])\n",
    "arr2=np.array([4,5,6])\n",
    "combined=np.concatenate((arr1, arr2))\n",
    "print( combined)\n"
   ]
  },
  {
   "cell_type": "markdown",
   "metadata": {},
   "source": [
    "### Array compatibilty"
   ]
  },
  {
   "cell_type": "code",
   "execution_count": 55,
   "metadata": {},
   "outputs": [
    {
     "name": "stdout",
     "output_type": "stream",
     "text": [
      "compatibility shapes:  True\n",
      "compatibility shapes:  False\n"
     ]
    }
   ],
   "source": [
    "a= np.array([1,2,3])\n",
    "b=np.array([4,5,6])\n",
    "c=np.array([7,8,9,3])\n",
    "\n",
    "print(\"compatibility shapes: \", a.shape == b.shape)\n",
    "print(\"compatibility shapes: \", a.shape == c.shape)\n",
    "\n"
   ]
  },
  {
   "cell_type": "code",
   "execution_count": 63,
   "metadata": {},
   "outputs": [
    {
     "name": "stdout",
     "output_type": "stream",
     "text": [
      "original array :\n",
      "  [[1 2]\n",
      " [3 4]]\n",
      "with new row : \n",
      " [[1 2]\n",
      " [3 4]\n",
      " [5 6]]\n"
     ]
    }
   ],
   "source": [
    "original=np.array([[1,2],\n",
    "                   [3,4]])\n",
    "new_row=np.array([5,6])\n",
    "\n",
    "with_new_row=np.vstack((original, new_row))\n",
    "print(\"original array :\\n \", original)\n",
    "print(\"with new row : \\n\", with_new_row)\n",
    "\n"
   ]
  },
  {
   "cell_type": "code",
   "execution_count": 67,
   "metadata": {},
   "outputs": [
    {
     "name": "stdout",
     "output_type": "stream",
     "text": [
      " original array:\n",
      "  [[1 2]\n",
      " [3 4]]\n",
      "with new colum: \n",
      " [[1 2 7]\n",
      " [3 4 8]]\n"
     ]
    }
   ],
   "source": [
    "\n",
    "new_col = np.array([[7],[8]])\n",
    "with_new_col= np.hstack((original, new_col))\n",
    "\n",
    "print(\" original array:\\n \", original)\n",
    "print(\"with new colum: \\n\", with_new_col)\n"
   ]
  },
  {
   "cell_type": "code",
   "execution_count": 80,
   "metadata": {},
   "outputs": [
    {
     "name": "stdout",
     "output_type": "stream",
     "text": [
      "Array Before deletion:  [1 2 3 4 5 6 7]\n",
      "Array After deletion:   [1 2 3 7]\n"
     ]
    }
   ],
   "source": [
    "arr = np.array([1,2,3,4,5,6,7])\n",
    "print(\"Array Before deletion: \", arr)\n",
    "\n",
    "deleted = np.delete(arr, (3,4,5))\n",
    "print(\"Array After deletion:  \", deleted)"
   ]
  }
 ],
 "metadata": {
  "kernelspec": {
   "display_name": "Python 3",
   "language": "python",
   "name": "python3"
  },
  "language_info": {
   "codemirror_mode": {
    "name": "ipython",
    "version": 3
   },
   "file_extension": ".py",
   "mimetype": "text/x-python",
   "name": "python",
   "nbconvert_exporter": "python",
   "pygments_lexer": "ipython3",
   "version": "3.13.2"
  }
 },
 "nbformat": 4,
 "nbformat_minor": 2
}
