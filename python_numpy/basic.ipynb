{
 "cells": [
  {
   "cell_type": "code",
   "execution_count": 18,
   "metadata": {},
   "outputs": [
    {
     "name": "stdout",
     "output_type": "stream",
     "text": [
      "1D array:  [1, 2, 3]\n",
      "2D array:  [[2, 3, 4], [4, 5, 6]]\n"
     ]
    }
   ],
   "source": [
    "import numpy as np\n",
    "\n",
    "arr_1d=[1,2,3]\n",
    "print(\"1D array: \", arr_1d)\n",
    "\n",
    "arr_2d=[[2,3,4],[4,5,6]]\n",
    "print(\"2D array: \", arr_2d)"
   ]
  },
  {
   "cell_type": "code",
   "execution_count": 19,
   "metadata": {},
   "outputs": [
    {
     "name": "stdout",
     "output_type": "stream",
     "text": [
      "Python list multiplication:  [1, 2, 3, 1, 2, 3]\n",
      "python matrix multiplication:  [2 4 6]\n"
     ]
    }
   ],
   "source": [
    "# list multiplication\n",
    "py_list=[1,2,3]\n",
    "print(\"Python list multiplication: \", py_list*2)\n",
    "\n",
    "\n",
    "# array multiplication\n",
    "py_array=np.array([1,2,3])\n",
    "print(\"python matrix multiplication: \", py_array*2)"
   ]
  },
  {
   "cell_type": "code",
   "execution_count": 20,
   "metadata": {},
   "outputs": [
    {
     "name": "stdout",
     "output_type": "stream",
     "text": [
      "Addition of a matrix: \n",
      " [[ 3  7]\n",
      " [10 14]]\n"
     ]
    }
   ],
   "source": [
    "# add two matrix\n",
    "\n",
    "matrix_1=np.array([[1,2],[3,5]])\n",
    "matrix_2=np.array([[2,5],[7,9]])\n",
    "\n",
    "add_matrix= matrix_1 + matrix_2\n",
    "print(\"Addition of a matrix: \\n\", add_matrix)"
   ]
  },
  {
   "cell_type": "code",
   "execution_count": 21,
   "metadata": {},
   "outputs": [
    {
     "name": "stdout",
     "output_type": "stream",
     "text": [
      "multipliction of a matrix: \n",
      " [[ 2 10]\n",
      " [21 45]]\n"
     ]
    }
   ],
   "source": [
    "# mul two matrix\n",
    "\n",
    "\n",
    "mul_matrix= matrix_1 * matrix_2\n",
    "print(\"multipliction of a matrix: \\n\", mul_matrix)"
   ]
  },
  {
   "cell_type": "code",
   "execution_count": 22,
   "metadata": {},
   "outputs": [
    {
     "name": "stdout",
     "output_type": "stream",
     "text": [
      "\n",
      " list operation time:  5.15657114982605\n",
      "numpy operation time:  0.572533130645752\n"
     ]
    }
   ],
   "source": [
    "import time\n",
    "\n",
    "start=time.time()\n",
    "py_list=[1*2 for i in range(100000000)]\n",
    "print(\"\\n list operation time: \", time.time()-start)\n",
    "\n",
    "\n",
    "start = time.time()\n",
    "np_array= np.arange(100000000)*2\n",
    "print(\"numpy operation time: \", time.time()-start)"
   ]
  },
  {
   "cell_type": "markdown",
   "metadata": {},
   "source": [
    "### create array for scratch\n"
   ]
  },
  {
   "cell_type": "code",
   "execution_count": 23,
   "metadata": {},
   "outputs": [
    {
     "name": "stdout",
     "output_type": "stream",
     "text": [
      "Zero array: \n",
      " [[0. 0. 0. 0.]\n",
      " [0. 0. 0. 0.]\n",
      " [0. 0. 0. 0.]]\n",
      "ones array: \n",
      " [[1. 1. 1. 1.]\n",
      " [1. 1. 1. 1.]\n",
      " [1. 1. 1. 1.]]\n",
      "Identity array: \n",
      " [[1. 0. 0. 0. 0.]\n",
      " [0. 1. 0. 0. 0.]\n",
      " [0. 0. 1. 0. 0.]\n",
      " [0. 0. 0. 1. 0.]\n",
      " [0. 0. 0. 0. 1.]]\n"
     ]
    }
   ],
   "source": [
    "# Creating a 3x4 zero array\n",
    "zero=np.zeros([3,4])\n",
    "print(\"Zero array: \\n\", zero)\n",
    "\n",
    "# Creating a 3x4 ones array\n",
    "one=np.ones([3,4])\n",
    "print(\"ones array: \\n\", one)\n",
    "\n",
    "# Creating an identity matrix --> 5x5\n",
    "Identity=np.identity(5)\n",
    "print(\"Identity array: \\n\", Identity)"
   ]
  },
  {
   "cell_type": "code",
   "execution_count": 24,
   "metadata": {},
   "outputs": [
    {
     "name": "stdout",
     "output_type": "stream",
     "text": [
      "full array: \n",
      " [[7 7 7]\n",
      " [7 7 7]\n",
      " [7 7 7]]\n",
      "Random value: 9\n"
     ]
    }
   ],
   "source": [
    "\n",
    "full=np.full((3,3),7)\n",
    "print(\"full array: \\n\", full)\n",
    "\n",
    "\n",
    "print(\"Random value:\", np.random.randint(1, 10))"
   ]
  },
  {
   "cell_type": "markdown",
   "metadata": {},
   "source": [
    "### Vector, Matrix, Tensor\n"
   ]
  },
  {
   "cell_type": "code",
   "execution_count": 25,
   "metadata": {},
   "outputs": [
    {
     "name": "stdout",
     "output_type": "stream",
     "text": [
      "vector [1 2 3]\n",
      "matrix: \n",
      " [[1 2 3]\n",
      " [4 5 6]]\n",
      "Tensor: \n",
      " [[[1 2]\n",
      "  [3 4]]\n",
      "\n",
      " [[5 6]\n",
      "  [7 8]]]\n"
     ]
    }
   ],
   "source": [
    "vector=np.array([1,2,3])\n",
    "print(\"vector\", vector)\n",
    "\n",
    "matrix=np.array([[1,2,3],\n",
    "                 [4,5,6]])\n",
    "print(\"matrix: \\n\", matrix)\n",
    "\n",
    "tensor=np.array([[[1,2],[3,4]],\n",
    "                  [[5,6],[7,8]]])\n",
    "print(\"Tensor: \\n\", tensor)"
   ]
  },
  {
   "cell_type": "markdown",
   "metadata": {},
   "source": [
    "### Array properties"
   ]
  },
  {
   "cell_type": "code",
   "execution_count": 26,
   "metadata": {},
   "outputs": [
    {
     "name": "stdout",
     "output_type": "stream",
     "text": [
      "shape  (2, 3)\n",
      "Dimension  2\n",
      "Size  6\n",
      "DType  int64\n"
     ]
    }
   ],
   "source": [
    "arr=np.array([[1,2,3],\n",
    "              [4,5,6]])\n",
    "print(\"shape \", arr.shape)\n",
    "print(\"Dimension \", arr.ndim)\n",
    "print(\"Size \", arr.size)\n",
    "print(\"DType \", arr.dtype)"
   ]
  },
  {
   "cell_type": "markdown",
   "metadata": {},
   "source": [
    "### - Array Reshaping"
   ]
  },
  {
   "cell_type": "code",
   "execution_count": 29,
   "metadata": {},
   "outputs": [
    {
     "name": "stdout",
     "output_type": "stream",
     "text": [
      "original array  [ 0  1  2  3  4  5  6  7  8  9 10 11]\n",
      "\n",
      " Reshaped array  [[ 0  1  2  3]\n",
      " [ 4  5  6  7]\n",
      " [ 8  9 10 11]]\n",
      "\n",
      " flattened arr  [ 0  1  2  3  4  5  6  7  8  9 10 11]\n",
      "\n",
      " reveled array  [ 0  1  2  3  4  5  6  7  8  9 10 11]\n",
      "\n",
      " Transposed array :\n",
      " [[ 0  4  8]\n",
      " [ 1  5  9]\n",
      " [ 2  6 10]\n",
      " [ 3  7 11]]\n"
     ]
    }
   ],
   "source": [
    "\n",
    "\n",
    "arr=np.arange(12)\n",
    "print(\"original array \",arr)\n",
    "\n",
    "reshape=arr.reshape((3,4))\n",
    "print(\"\\n Reshaped array \", reshape)\n",
    "\n",
    "flattened=reshape.flatten()\n",
    "print(\"\\n flattened arr \", flattened)\n",
    "\n",
    "# ravel (returns view, instead of copy)\n",
    "reveled= reshape.ravel()\n",
    "print(\"\\n reveled array \", reveled)\n",
    "\n",
    "# transpose \n",
    "\n",
    "transpose = reshape.T\n",
    "print(\"\\n Transposed array :\\n\", transpose)"
   ]
  }
 ],
 "metadata": {
  "kernelspec": {
   "display_name": "Python 3",
   "language": "python",
   "name": "python3"
  },
  "language_info": {
   "codemirror_mode": {
    "name": "ipython",
    "version": 3
   },
   "file_extension": ".py",
   "mimetype": "text/x-python",
   "name": "python",
   "nbconvert_exporter": "python",
   "pygments_lexer": "ipython3",
   "version": "3.13.3"
  }
 },
 "nbformat": 4,
 "nbformat_minor": 2
}
