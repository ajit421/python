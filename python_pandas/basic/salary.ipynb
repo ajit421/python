{
 "cells": [
  {
   "cell_type": "code",
   "execution_count": null,
   "metadata": {},
   "outputs": [
    {
     "name": "stdout",
     "output_type": "stream",
     "text": [
      "Employees with salary > 50000:\n",
      "        Name  Age  Salary  Performance Score\n",
      "1      Shyam   30   60000                 90\n",
      "3  Dhanshyam   52   52000                 92\n",
      "5    Jagdish   40   70000                 95\n",
      "7     Simran   28   58000                 89\n"
     ]
    }
   ],
   "source": [
    "import pandas as pd\n",
    "\n",
    "data = {\n",
    "    \"Name\": ['Ram', 'Shyam', 'Ghanshyam', 'Dhanshyam', 'Aditi', 'Jagdish', 'Raji', 'Simran'],\n",
    "    \"Age\": [25, 30, 45, 52, 49, 40, 33, 28],\n",
    "    \"Salary\": [50000, 60000, 45000, 52000, 49000, 70000, 48000, 58000],\n",
    "    \"Performance_Score\": [85, 90, 78, 92, 88, 95, 80, 89]\n",
    "}\n",
    "\n",
    "df = pd.DataFrame(data)\n",
    "\n",
    "high_salary = df[df['Salary'] > 50000]\n",
    "\n",
    "print('Employees with salary > 50000:')\n",
    "print(high_salary)\n"
   ]
  }
 ],
 "metadata": {
  "kernelspec": {
   "display_name": "Python 3",
   "language": "python",
   "name": "python3"
  },
  "language_info": {
   "codemirror_mode": {
    "name": "ipython",
    "version": 3
   },
   "file_extension": ".py",
   "mimetype": "text/x-python",
   "name": "python",
   "nbconvert_exporter": "python",
   "pygments_lexer": "ipython3",
   "version": "3.13.2"
  }
 },
 "nbformat": 4,
 "nbformat_minor": 2
}
