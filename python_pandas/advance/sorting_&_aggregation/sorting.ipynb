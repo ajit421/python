{
 "cells": [
  {
   "cell_type": "code",
   "execution_count": 1,
   "metadata": {},
   "outputs": [
    {
     "name": "stdout",
     "output_type": "stream",
     "text": [
      "Sorted by Age (Ascending Order)\n",
      "     name  age   salary\n",
      "2   kumar   15  6464272\n",
      "0    Ajit   28  1872487\n",
      "1  golden   35  7877277\n",
      "Sorted by Salary (Descending Order)\n",
      "     name  age   salary\n",
      "1  golden   35  7877277\n",
      "2   kumar   15  6464272\n",
      "0    Ajit   28  1872487\n"
     ]
    }
   ],
   "source": [
    "import pandas as pd\n",
    "\n",
    "data={\n",
    "    \"name\":[\"Ajit\", \"golden\", \"kumar\"],\n",
    "    \"age\": [28,35,15],\n",
    "    \"salary\": [1872487, 7877277, 6464272]\n",
    "}\n",
    "\n",
    "df = pd.DataFrame(data)\n",
    "\n",
    "# ascending data\n",
    "\n",
    "# age ascending\n",
    "df.sort_values(by=\"age\", ascending= True, inplace=True)\n",
    "print(\"Sorted by Age (Ascending Order)\")\n",
    "print(df)\n",
    "\n",
    "# salary ascending\n",
    "df.sort_values(by= \"salary\", ascending=False, inplace=True)\n",
    "print(\"Sorted by Salary (Descending Order)\")\n",
    "print(df)"
   ]
  },
  {
   "cell_type": "code",
   "execution_count": 2,
   "metadata": {},
   "outputs": [
    {
     "name": "stdout",
     "output_type": "stream",
     "text": [
      "     name  age   salary\n",
      "1  golden   35  7877277\n",
      "0    Ajit   28  1872487\n",
      "2   kumar   15  6464272\n"
     ]
    }
   ],
   "source": [
    "df.sort_values(by=[\"age\", \"salary\"], ascending=[False, False], inplace=True)\n",
    "print(df)"
   ]
  },
  {
   "cell_type": "code",
   "execution_count": null,
   "metadata": {},
   "outputs": [],
   "source": []
  }
 ],
 "metadata": {
  "kernelspec": {
   "display_name": "Python 3",
   "language": "python",
   "name": "python3"
  },
  "language_info": {
   "codemirror_mode": {
    "name": "ipython",
    "version": 3
   },
   "file_extension": ".py",
   "mimetype": "text/x-python",
   "name": "python",
   "nbconvert_exporter": "python",
   "pygments_lexer": "ipython3",
   "version": "3.13.2"
  }
 },
 "nbformat": 4,
 "nbformat_minor": 2
}
