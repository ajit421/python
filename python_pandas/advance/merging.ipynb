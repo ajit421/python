{
 "cells": [
  {
   "cell_type": "code",
   "execution_count": 1,
   "metadata": {},
   "outputs": [],
   "source": [
    "import pandas as pd\n",
    "\n",
    "df_customers = pd.DataFrame({\n",
    "    'customer id': [1,2,3],\n",
    "    'name': [\"ramesh\", \"suresh\", \"kalpesh\"]\n",
    "})\n",
    "\n",
    "df_orders=pd.DataFrame({\n",
    "    'customer id':[1,2,4],\n",
    "    'order_amount': [250,399,444]\n",
    "    \n",
    "})\n"
   ]
  },
  {
   "cell_type": "code",
   "execution_count": 2,
   "metadata": {},
   "outputs": [
    {
     "name": "stdout",
     "output_type": "stream",
     "text": [
      "   customer id     name  order_amount\n",
      "0            1   ramesh         250.0\n",
      "1            2   suresh         399.0\n",
      "2            3  kalpesh           NaN\n",
      "3            4      NaN         444.0\n"
     ]
    }
   ],
   "source": [
    "\n",
    "df_merg=pd.merge(df_customers,df_orders, on=\"customer id\", how=\"outer\")\n",
    "print(df_merg)"
   ]
  },
  {
   "cell_type": "code",
   "execution_count": 3,
   "metadata": {},
   "outputs": [
    {
     "name": "stdout",
     "output_type": "stream",
     "text": [
      "   customer id    name  order_amount\n",
      "0            1  ramesh           250\n",
      "1            2  suresh           399\n"
     ]
    }
   ],
   "source": [
    "\n",
    "df_merg=pd.merge(df_customers,df_orders, on=\"customer id\", how=\"inner\")\n",
    "print(df_merg)"
   ]
  },
  {
   "cell_type": "code",
   "execution_count": 4,
   "metadata": {},
   "outputs": [
    {
     "name": "stdout",
     "output_type": "stream",
     "text": [
      "   customer id     name  order_amount\n",
      "0            1   ramesh         250.0\n",
      "1            2   suresh         399.0\n",
      "2            3  kalpesh           NaN\n"
     ]
    }
   ],
   "source": [
    "\n",
    "df_merg=pd.merge(df_customers,df_orders, on=\"customer id\", how=\"left\")\n",
    "print(df_merg)"
   ]
  },
  {
   "cell_type": "code",
   "execution_count": 5,
   "metadata": {},
   "outputs": [
    {
     "name": "stdout",
     "output_type": "stream",
     "text": [
      "   customer id    name  order_amount\n",
      "0            1  ramesh           250\n",
      "1            2  suresh           399\n",
      "2            4     NaN           444\n"
     ]
    }
   ],
   "source": [
    "\n",
    "df_merg=pd.merge(df_customers,df_orders, on=\"customer id\", how=\"right\")\n",
    "print(df_merg)"
   ]
  },
  {
   "cell_type": "code",
   "execution_count": null,
   "metadata": {},
   "outputs": [],
   "source": []
  }
 ],
 "metadata": {
  "kernelspec": {
   "display_name": "Python 3",
   "language": "python",
   "name": "python3"
  },
  "language_info": {
   "codemirror_mode": {
    "name": "ipython",
    "version": 3
   },
   "file_extension": ".py",
   "mimetype": "text/x-python",
   "name": "python",
   "nbconvert_exporter": "python",
   "pygments_lexer": "ipython3",
   "version": "3.13.2"
  }
 },
 "nbformat": 4,
 "nbformat_minor": 2
}
