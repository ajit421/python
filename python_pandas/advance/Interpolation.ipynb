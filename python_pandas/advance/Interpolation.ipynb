{
 "cells": [
  {
   "cell_type": "code",
   "execution_count": 6,
   "id": "28741fde-b4e4-4750-960a-8efddd4be83f",
   "metadata": {},
   "outputs": [],
   "source": [
    "import pandas as pd\n",
    "\n",
    "data = {\n",
    "    \"Name\": [\"Ram\", \"Shyam\", \"Ghanshyam\", \"Aditi\"],\n",
    "    \"Age\": [None, 30, None, 28],  \n",
    "    \"Salary\": [50000, None, 45000, 55000] \n",
    "}\n",
    "\n",
    "df = pd.DataFrame(data)\n",
    "\n"
   ]
  },
  {
   "cell_type": "code",
   "execution_count": 7,
   "id": "0e027233-52fb-4ba5-ad0a-ef3142ab40b7",
   "metadata": {},
   "outputs": [
    {
     "name": "stdout",
     "output_type": "stream",
     "text": [
      "        Name   Age   Salary\n",
      "0        Ram   NaN  50000.0\n",
      "1      Shyam  30.0  47500.0\n",
      "2  Ghanshyam  29.0  45000.0\n",
      "3      Aditi  28.0  55000.0\n"
     ]
    },
    {
     "name": "stderr",
     "output_type": "stream",
     "text": [
      "C:\\Users\\ajitk\\AppData\\Local\\Temp\\ipykernel_20112\\2589506337.py:1: FutureWarning: DataFrame.interpolate with object dtype is deprecated and will raise in a future version. Call obj.infer_objects(copy=False) before interpolating instead.\n",
      "  df.interpolate(method=\"linear\", axis=0, inplace=True)\n"
     ]
    }
   ],
   "source": [
    "\n",
    "df.interpolate(method=\"linear\", axis=0, inplace=True)\n",
    "print(df)\n"
   ]
  },
  {
   "cell_type": "code",
   "execution_count": 8,
   "id": "1ee8b88e",
   "metadata": {},
   "outputs": [
    {
     "name": "stdout",
     "output_type": "stream",
     "text": [
      "Before Interpolation: \n",
      "   time  value\n",
      "0     1   10.0\n",
      "1     2   20.0\n",
      "2     3    NaN\n",
      "3     4   45.0\n",
      "4     5   50.0\n",
      "5     6    NaN\n",
      "6     7   78.0\n",
      "After Interpolation: \n",
      "   time  value\n",
      "0     1   10.0\n",
      "1     2   20.0\n",
      "2     3   32.5\n",
      "3     4   45.0\n",
      "4     5   50.0\n",
      "5     6   64.0\n",
      "6     7   78.0\n"
     ]
    }
   ],
   "source": [
    "from pandas import DataFrame\n",
    "\n",
    "\n",
    "data={\n",
    "    \"time\": [1,2,3,4,5,6,7],\n",
    "    \"value\": [10,20,None,45,50,None,78]\n",
    "}\n",
    "\n",
    "df=DataFrame(data)\n",
    "\n",
    "print(\"Before Interpolation: \")\n",
    "print(df)\n",
    "\n",
    "\n",
    "print(\"After Interpolation: \")\n",
    "df['value']=df['value'].interpolate(method=\"linear\")\n",
    "print(df)"
   ]
  },
  {
   "cell_type": "code",
   "execution_count": null,
   "id": "283f4689",
   "metadata": {},
   "outputs": [],
   "source": [
    "  "
   ]
  }
 ],
 "metadata": {
  "kernelspec": {
   "display_name": "Python 3",
   "language": "python",
   "name": "python3"
  },
  "language_info": {
   "codemirror_mode": {
    "name": "ipython",
    "version": 3
   },
   "file_extension": ".py",
   "mimetype": "text/x-python",
   "name": "python",
   "nbconvert_exporter": "python",
   "pygments_lexer": "ipython3",
   "version": "3.13.2"
  }
 },
 "nbformat": 4,
 "nbformat_minor": 5
}
