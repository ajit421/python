{
 "cells": [
  {
   "cell_type": "code",
   "execution_count": 3,
   "metadata": {},
   "outputs": [],
   "source": [
    "import pandas as pd\n",
    "\n",
    "data={\n",
    "    \"name\":[\"Ajit\", \"golden\", \"kumar\",\"sohan\", \"mohan\", \"rohan\"],\n",
    "    \"age\": [28,35,15,25,15,25],\n",
    "    \"salary\": [1872487, 7877277, 6464272, 8735443,78347,73487]\n",
    "}\n",
    "\n",
    "df = pd.DataFrame(data)\n"
   ]
  },
  {
   "cell_type": "code",
   "execution_count": 5,
   "metadata": {},
   "outputs": [
    {
     "name": "stdout",
     "output_type": "stream",
     "text": [
      "age\n",
      "15    6542619\n",
      "25    8808930\n",
      "28    1872487\n",
      "35    7877277\n",
      "Name: salary, dtype: int64\n"
     ]
    }
   ],
   "source": [
    "grouped= df.groupby(\"age\")[\"salary\"].sum()\n",
    "print(grouped)"
   ]
  },
  {
   "cell_type": "code",
   "execution_count": 7,
   "metadata": {},
   "outputs": [
    {
     "name": "stdout",
     "output_type": "stream",
     "text": [
      "name    age\n",
      "Ajit    28     1872487\n",
      "golden  35     7877277\n",
      "kumar   15     6464272\n",
      "mohan   15       78347\n",
      "rohan   25       73487\n",
      "sohan   25     8735443\n",
      "Name: salary, dtype: int64\n"
     ]
    }
   ],
   "source": [
    "grouped=df.groupby([\"name\",\"age\"])[\"salary\"].sum()\n",
    "print(grouped)"
   ]
  },
  {
   "cell_type": "code",
   "execution_count": null,
   "metadata": {},
   "outputs": [],
   "source": []
  }
 ],
 "metadata": {
  "kernelspec": {
   "display_name": "Python 3",
   "language": "python",
   "name": "python3"
  },
  "language_info": {
   "codemirror_mode": {
    "name": "ipython",
    "version": 3
   },
   "file_extension": ".py",
   "mimetype": "text/x-python",
   "name": "python",
   "nbconvert_exporter": "python",
   "pygments_lexer": "ipython3",
   "version": "3.13.2"
  }
 },
 "nbformat": 4,
 "nbformat_minor": 2
}
